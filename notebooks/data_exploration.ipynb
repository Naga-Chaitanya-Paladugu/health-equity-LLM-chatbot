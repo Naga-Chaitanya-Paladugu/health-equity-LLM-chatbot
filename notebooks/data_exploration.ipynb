{
 "cells": [
  {
   "metadata": {},
   "cell_type": "markdown",
   "source": "# 1. Load and Inspect data",
   "id": "beebd05a4652e573"
  },
  {
   "metadata": {
    "ExecuteTime": {
     "end_time": "2025-03-19T00:31:22.693824Z",
     "start_time": "2025-03-19T00:31:20.316352Z"
    }
   },
   "cell_type": "code",
   "source": [
    "import pandas as pd\n",
    "import os\n",
    "\n",
    "from Tools.scripts.dutree import display\n",
    "\n",
    "# Define the path to the raw data directory\n",
    "RAW_DATA_PATH = \"../backend/data/raw/csv/\"\n",
    "\n",
    "# List of datasets to load\n",
    "datasets = [\"patients\", \"conditions\", \"encounters\", \"medications\", \"claims\", \"payers\", \"organizations\", \"providers\"]\n",
    "\n",
    "\n",
    "# Load datasets into a dictionary\n",
    "dfs = {}\n",
    "for dataset in datasets:\n",
    "    file_path = os.path.join(RAW_DATA_PATH, f\"{dataset}.csv\")\n",
    "    if os.path.exists(file_path):\n",
    "        dfs[dataset] = pd.read_csv(file_path, dtype=str)\n",
    "        print(f\"Loaded {dataset}.csv with {dfs[dataset].shape[0]} rows and {dfs[dataset].shape[1]} columns.\")\n",
    "    else:\n",
    "        print(f\"File {dataset}.csv not found in the raw data folder.\")\n"
   ],
   "id": "449881215b504f55",
   "outputs": [
    {
     "name": "stdout",
     "output_type": "stream",
     "text": [
      "Loaded patients.csv with 2287 rows and 28 columns.\n",
      "Loaded conditions.csv with 93114 rows and 7 columns.\n",
      "Loaded encounters.csv with 167146 rows and 15 columns.\n",
      "Loaded medications.csv with 163608 rows and 13 columns.\n",
      "Loaded claims.csv with 330754 rows and 31 columns.\n",
      "Loaded payers.csv with 10 rows and 22 columns.\n"
     ]
    }
   ],
   "execution_count": 37
  },
  {
   "metadata": {},
   "cell_type": "markdown",
   "source": "# 2.1 Patients dataset",
   "id": "766dc169ce26d332"
  },
  {
   "cell_type": "code",
   "id": "initial_id",
   "metadata": {
    "collapsed": true,
    "ExecuteTime": {
     "end_time": "2025-03-19T00:31:22.748815Z",
     "start_time": "2025-03-19T00:31:22.730773Z"
    }
   },
   "source": [
    "# Load and inspect the patients dataset\n",
    "df_patients = dfs[\"patients\"]\n",
    "\n",
    "# Display column names\n",
    "print(\"Columns in patients dataset:\")\n",
    "print(df_patients.columns.tolist())\n",
    "\n",
    "# Expand column display width in Jupyter Notebook\n",
    "pd.set_option('display.max_columns', None)\n",
    "pd.set_option('display.width', 1000)\n",
    "\n",
    "# Show first 5 rows\n",
    "print(\"\\nFirst 5 rows of patients dataset:\")\n",
    "display(df_patients.head())"
   ],
   "outputs": [
    {
     "name": "stdout",
     "output_type": "stream",
     "text": [
      "Columns in patients dataset:\n",
      "['Id', 'BIRTHDATE', 'DEATHDATE', 'SSN', 'DRIVERS', 'PASSPORT', 'PREFIX', 'FIRST', 'MIDDLE', 'LAST', 'SUFFIX', 'MAIDEN', 'MARITAL', 'RACE', 'ETHNICITY', 'GENDER', 'BIRTHPLACE', 'ADDRESS', 'CITY', 'STATE', 'COUNTY', 'FIPS', 'ZIP', 'LAT', 'LON', 'HEALTHCARE_EXPENSES', 'HEALTHCARE_COVERAGE', 'INCOME']\n",
      "\n",
      "First 5 rows of patients dataset:\n"
     ]
    },
    {
     "data": {
      "text/plain": [
       "                                     Id   BIRTHDATE DEATHDATE          SSN    DRIVERS    PASSPORT PREFIX         FIRST       MIDDLE            LAST SUFFIX   MAIDEN MARITAL   RACE    ETHNICITY GENDER                  BIRTHPLACE                       ADDRESS        CITY       STATE              COUNTY  FIPS    ZIP                 LAT                  LON HEALTHCARE_EXPENSES HEALTHCARE_COVERAGE  INCOME\n",
       "0  a02a3f43-b6f4-d209-4062-af0cec3b22c1  2015-08-02       NaN  999-99-5386        NaN         NaN    NaN     Jacobo456  Patricio639       Malave728    NaN      NaN     NaN  white     hispanic      M    Gaudalajara  Jalisco  MX  530 Zboncak Landing Suite 63  Montebello  California  Los Angeles County  6037  90022  34.012467415112646  -118.14746462284438            33339.29             4690.13   65295\n",
       "1  d92132ce-06ac-3ab4-217f-97257a290b22  2011-09-25       NaN  999-65-7810        NaN         NaN    NaN   Dannette613    Darcie474        Bauch723    NaN      NaN     NaN  white  nonhispanic      F    Berkeley  California  US               593 Doyle Ranch  Lemon Hill  California   Sacramento County   NaN  00000   38.55092979196755  -121.40955183225064             2798.49           141417.37   31770\n",
       "2  abc59f62-dc5a-5095-1141-80b4ee8be73b  1996-06-13       NaN  999-37-1058  S99918022  X63553287X   Mrs.     Jacque955       Jin479  Satterfield305    NaN  Will178       M  white  nonhispanic      F  Santa Cruz  California  US            492 Keebler Estate   Fairfield  California       Solano County  6095  94585   38.18324005715623   -121.9588555053258           348990.79           186000.37   41915\n",
       "3  54f1059e-6250-3949-6dd0-1dda9b85d22a  2003-02-12       NaN  999-28-3364  S99936929  X15345756X    Ms.  Fredricka415     Matha641        Crist667    NaN      NaN     NaN  white  nonhispanic      F    San Jose  California  US      931 Bartell Ville Apt 84      Irvine  California       Orange County  6059  92676   33.74517092481692  -117.74997027981273            56198.94           133887.30  330702\n",
       "4  239ae86a-96db-6211-9042-d3f2850aabb8  1970-06-17       NaN  999-74-7366  S99962894  X13153521X    Mr.    Darrell400     Harry448       Muller251    NaN      NaN       D  white     hispanic      M      Dublin  California  US             541 Stracke Plaza    San Jose  California  Santa Clara County  6085  95140   37.30226576037261  -121.96683622886896            10675.97           194000.08    3928"
      ],
      "text/html": [
       "<div>\n",
       "<style scoped>\n",
       "    .dataframe tbody tr th:only-of-type {\n",
       "        vertical-align: middle;\n",
       "    }\n",
       "\n",
       "    .dataframe tbody tr th {\n",
       "        vertical-align: top;\n",
       "    }\n",
       "\n",
       "    .dataframe thead th {\n",
       "        text-align: right;\n",
       "    }\n",
       "</style>\n",
       "<table border=\"1\" class=\"dataframe\">\n",
       "  <thead>\n",
       "    <tr style=\"text-align: right;\">\n",
       "      <th></th>\n",
       "      <th>Id</th>\n",
       "      <th>BIRTHDATE</th>\n",
       "      <th>DEATHDATE</th>\n",
       "      <th>SSN</th>\n",
       "      <th>DRIVERS</th>\n",
       "      <th>PASSPORT</th>\n",
       "      <th>PREFIX</th>\n",
       "      <th>FIRST</th>\n",
       "      <th>MIDDLE</th>\n",
       "      <th>LAST</th>\n",
       "      <th>SUFFIX</th>\n",
       "      <th>MAIDEN</th>\n",
       "      <th>MARITAL</th>\n",
       "      <th>RACE</th>\n",
       "      <th>ETHNICITY</th>\n",
       "      <th>GENDER</th>\n",
       "      <th>BIRTHPLACE</th>\n",
       "      <th>ADDRESS</th>\n",
       "      <th>CITY</th>\n",
       "      <th>STATE</th>\n",
       "      <th>COUNTY</th>\n",
       "      <th>FIPS</th>\n",
       "      <th>ZIP</th>\n",
       "      <th>LAT</th>\n",
       "      <th>LON</th>\n",
       "      <th>HEALTHCARE_EXPENSES</th>\n",
       "      <th>HEALTHCARE_COVERAGE</th>\n",
       "      <th>INCOME</th>\n",
       "    </tr>\n",
       "  </thead>\n",
       "  <tbody>\n",
       "    <tr>\n",
       "      <th>0</th>\n",
       "      <td>a02a3f43-b6f4-d209-4062-af0cec3b22c1</td>\n",
       "      <td>2015-08-02</td>\n",
       "      <td>NaN</td>\n",
       "      <td>999-99-5386</td>\n",
       "      <td>NaN</td>\n",
       "      <td>NaN</td>\n",
       "      <td>NaN</td>\n",
       "      <td>Jacobo456</td>\n",
       "      <td>Patricio639</td>\n",
       "      <td>Malave728</td>\n",
       "      <td>NaN</td>\n",
       "      <td>NaN</td>\n",
       "      <td>NaN</td>\n",
       "      <td>white</td>\n",
       "      <td>hispanic</td>\n",
       "      <td>M</td>\n",
       "      <td>Gaudalajara  Jalisco  MX</td>\n",
       "      <td>530 Zboncak Landing Suite 63</td>\n",
       "      <td>Montebello</td>\n",
       "      <td>California</td>\n",
       "      <td>Los Angeles County</td>\n",
       "      <td>6037</td>\n",
       "      <td>90022</td>\n",
       "      <td>34.012467415112646</td>\n",
       "      <td>-118.14746462284438</td>\n",
       "      <td>33339.29</td>\n",
       "      <td>4690.13</td>\n",
       "      <td>65295</td>\n",
       "    </tr>\n",
       "    <tr>\n",
       "      <th>1</th>\n",
       "      <td>d92132ce-06ac-3ab4-217f-97257a290b22</td>\n",
       "      <td>2011-09-25</td>\n",
       "      <td>NaN</td>\n",
       "      <td>999-65-7810</td>\n",
       "      <td>NaN</td>\n",
       "      <td>NaN</td>\n",
       "      <td>NaN</td>\n",
       "      <td>Dannette613</td>\n",
       "      <td>Darcie474</td>\n",
       "      <td>Bauch723</td>\n",
       "      <td>NaN</td>\n",
       "      <td>NaN</td>\n",
       "      <td>NaN</td>\n",
       "      <td>white</td>\n",
       "      <td>nonhispanic</td>\n",
       "      <td>F</td>\n",
       "      <td>Berkeley  California  US</td>\n",
       "      <td>593 Doyle Ranch</td>\n",
       "      <td>Lemon Hill</td>\n",
       "      <td>California</td>\n",
       "      <td>Sacramento County</td>\n",
       "      <td>NaN</td>\n",
       "      <td>00000</td>\n",
       "      <td>38.55092979196755</td>\n",
       "      <td>-121.40955183225064</td>\n",
       "      <td>2798.49</td>\n",
       "      <td>141417.37</td>\n",
       "      <td>31770</td>\n",
       "    </tr>\n",
       "    <tr>\n",
       "      <th>2</th>\n",
       "      <td>abc59f62-dc5a-5095-1141-80b4ee8be73b</td>\n",
       "      <td>1996-06-13</td>\n",
       "      <td>NaN</td>\n",
       "      <td>999-37-1058</td>\n",
       "      <td>S99918022</td>\n",
       "      <td>X63553287X</td>\n",
       "      <td>Mrs.</td>\n",
       "      <td>Jacque955</td>\n",
       "      <td>Jin479</td>\n",
       "      <td>Satterfield305</td>\n",
       "      <td>NaN</td>\n",
       "      <td>Will178</td>\n",
       "      <td>M</td>\n",
       "      <td>white</td>\n",
       "      <td>nonhispanic</td>\n",
       "      <td>F</td>\n",
       "      <td>Santa Cruz  California  US</td>\n",
       "      <td>492 Keebler Estate</td>\n",
       "      <td>Fairfield</td>\n",
       "      <td>California</td>\n",
       "      <td>Solano County</td>\n",
       "      <td>6095</td>\n",
       "      <td>94585</td>\n",
       "      <td>38.18324005715623</td>\n",
       "      <td>-121.9588555053258</td>\n",
       "      <td>348990.79</td>\n",
       "      <td>186000.37</td>\n",
       "      <td>41915</td>\n",
       "    </tr>\n",
       "    <tr>\n",
       "      <th>3</th>\n",
       "      <td>54f1059e-6250-3949-6dd0-1dda9b85d22a</td>\n",
       "      <td>2003-02-12</td>\n",
       "      <td>NaN</td>\n",
       "      <td>999-28-3364</td>\n",
       "      <td>S99936929</td>\n",
       "      <td>X15345756X</td>\n",
       "      <td>Ms.</td>\n",
       "      <td>Fredricka415</td>\n",
       "      <td>Matha641</td>\n",
       "      <td>Crist667</td>\n",
       "      <td>NaN</td>\n",
       "      <td>NaN</td>\n",
       "      <td>NaN</td>\n",
       "      <td>white</td>\n",
       "      <td>nonhispanic</td>\n",
       "      <td>F</td>\n",
       "      <td>San Jose  California  US</td>\n",
       "      <td>931 Bartell Ville Apt 84</td>\n",
       "      <td>Irvine</td>\n",
       "      <td>California</td>\n",
       "      <td>Orange County</td>\n",
       "      <td>6059</td>\n",
       "      <td>92676</td>\n",
       "      <td>33.74517092481692</td>\n",
       "      <td>-117.74997027981273</td>\n",
       "      <td>56198.94</td>\n",
       "      <td>133887.30</td>\n",
       "      <td>330702</td>\n",
       "    </tr>\n",
       "    <tr>\n",
       "      <th>4</th>\n",
       "      <td>239ae86a-96db-6211-9042-d3f2850aabb8</td>\n",
       "      <td>1970-06-17</td>\n",
       "      <td>NaN</td>\n",
       "      <td>999-74-7366</td>\n",
       "      <td>S99962894</td>\n",
       "      <td>X13153521X</td>\n",
       "      <td>Mr.</td>\n",
       "      <td>Darrell400</td>\n",
       "      <td>Harry448</td>\n",
       "      <td>Muller251</td>\n",
       "      <td>NaN</td>\n",
       "      <td>NaN</td>\n",
       "      <td>D</td>\n",
       "      <td>white</td>\n",
       "      <td>hispanic</td>\n",
       "      <td>M</td>\n",
       "      <td>Dublin  California  US</td>\n",
       "      <td>541 Stracke Plaza</td>\n",
       "      <td>San Jose</td>\n",
       "      <td>California</td>\n",
       "      <td>Santa Clara County</td>\n",
       "      <td>6085</td>\n",
       "      <td>95140</td>\n",
       "      <td>37.30226576037261</td>\n",
       "      <td>-121.96683622886896</td>\n",
       "      <td>10675.97</td>\n",
       "      <td>194000.08</td>\n",
       "      <td>3928</td>\n",
       "    </tr>\n",
       "  </tbody>\n",
       "</table>\n",
       "</div>"
      ]
     },
     "metadata": {},
     "output_type": "display_data"
    }
   ],
   "execution_count": 38
  },
  {
   "metadata": {},
   "cell_type": "markdown",
   "source": "# 2.2 Drop Unnecessary Columns",
   "id": "644b9e2aecfab1fb"
  },
  {
   "metadata": {
    "ExecuteTime": {
     "end_time": "2025-03-19T00:31:22.788207Z",
     "start_time": "2025-03-19T00:31:22.777284Z"
    }
   },
   "cell_type": "code",
   "source": [
    "# Define columns to drop\n",
    "columns_to_drop = ['PREFIX', 'MIDDLE', 'SSN', 'DRIVERS', 'PASSPORT', 'SUFFIX', 'MAIDEN', 'BIRTHPLACE', 'FIPS', 'LAT', 'LON']\n",
    "\n",
    "# Drop columns\n",
    "df_patients_cleaned = df_patients.drop(columns=columns_to_drop)\n",
    "\n",
    "# Display the updated dataset\n",
    "print(\"Columns after dropping unnecessary ones:\")\n",
    "print(df_patients_cleaned.columns.tolist())\n",
    "\n",
    "# Show first 5 rows after cleanup\n",
    "display(df_patients_cleaned.head())"
   ],
   "id": "bfe3a043c72d62d7",
   "outputs": [
    {
     "name": "stdout",
     "output_type": "stream",
     "text": [
      "Columns after dropping unnecessary ones:\n",
      "['Id', 'BIRTHDATE', 'DEATHDATE', 'FIRST', 'LAST', 'MARITAL', 'RACE', 'ETHNICITY', 'GENDER', 'ADDRESS', 'CITY', 'STATE', 'COUNTY', 'ZIP', 'HEALTHCARE_EXPENSES', 'HEALTHCARE_COVERAGE', 'INCOME']\n"
     ]
    },
    {
     "data": {
      "text/plain": [
       "                                     Id   BIRTHDATE DEATHDATE         FIRST            LAST MARITAL   RACE    ETHNICITY GENDER                       ADDRESS        CITY       STATE              COUNTY    ZIP HEALTHCARE_EXPENSES HEALTHCARE_COVERAGE  INCOME\n",
       "0  a02a3f43-b6f4-d209-4062-af0cec3b22c1  2015-08-02       NaN     Jacobo456       Malave728     NaN  white     hispanic      M  530 Zboncak Landing Suite 63  Montebello  California  Los Angeles County  90022            33339.29             4690.13   65295\n",
       "1  d92132ce-06ac-3ab4-217f-97257a290b22  2011-09-25       NaN   Dannette613        Bauch723     NaN  white  nonhispanic      F               593 Doyle Ranch  Lemon Hill  California   Sacramento County  00000             2798.49           141417.37   31770\n",
       "2  abc59f62-dc5a-5095-1141-80b4ee8be73b  1996-06-13       NaN     Jacque955  Satterfield305       M  white  nonhispanic      F            492 Keebler Estate   Fairfield  California       Solano County  94585           348990.79           186000.37   41915\n",
       "3  54f1059e-6250-3949-6dd0-1dda9b85d22a  2003-02-12       NaN  Fredricka415        Crist667     NaN  white  nonhispanic      F      931 Bartell Ville Apt 84      Irvine  California       Orange County  92676            56198.94           133887.30  330702\n",
       "4  239ae86a-96db-6211-9042-d3f2850aabb8  1970-06-17       NaN    Darrell400       Muller251       D  white     hispanic      M             541 Stracke Plaza    San Jose  California  Santa Clara County  95140            10675.97           194000.08    3928"
      ],
      "text/html": [
       "<div>\n",
       "<style scoped>\n",
       "    .dataframe tbody tr th:only-of-type {\n",
       "        vertical-align: middle;\n",
       "    }\n",
       "\n",
       "    .dataframe tbody tr th {\n",
       "        vertical-align: top;\n",
       "    }\n",
       "\n",
       "    .dataframe thead th {\n",
       "        text-align: right;\n",
       "    }\n",
       "</style>\n",
       "<table border=\"1\" class=\"dataframe\">\n",
       "  <thead>\n",
       "    <tr style=\"text-align: right;\">\n",
       "      <th></th>\n",
       "      <th>Id</th>\n",
       "      <th>BIRTHDATE</th>\n",
       "      <th>DEATHDATE</th>\n",
       "      <th>FIRST</th>\n",
       "      <th>LAST</th>\n",
       "      <th>MARITAL</th>\n",
       "      <th>RACE</th>\n",
       "      <th>ETHNICITY</th>\n",
       "      <th>GENDER</th>\n",
       "      <th>ADDRESS</th>\n",
       "      <th>CITY</th>\n",
       "      <th>STATE</th>\n",
       "      <th>COUNTY</th>\n",
       "      <th>ZIP</th>\n",
       "      <th>HEALTHCARE_EXPENSES</th>\n",
       "      <th>HEALTHCARE_COVERAGE</th>\n",
       "      <th>INCOME</th>\n",
       "    </tr>\n",
       "  </thead>\n",
       "  <tbody>\n",
       "    <tr>\n",
       "      <th>0</th>\n",
       "      <td>a02a3f43-b6f4-d209-4062-af0cec3b22c1</td>\n",
       "      <td>2015-08-02</td>\n",
       "      <td>NaN</td>\n",
       "      <td>Jacobo456</td>\n",
       "      <td>Malave728</td>\n",
       "      <td>NaN</td>\n",
       "      <td>white</td>\n",
       "      <td>hispanic</td>\n",
       "      <td>M</td>\n",
       "      <td>530 Zboncak Landing Suite 63</td>\n",
       "      <td>Montebello</td>\n",
       "      <td>California</td>\n",
       "      <td>Los Angeles County</td>\n",
       "      <td>90022</td>\n",
       "      <td>33339.29</td>\n",
       "      <td>4690.13</td>\n",
       "      <td>65295</td>\n",
       "    </tr>\n",
       "    <tr>\n",
       "      <th>1</th>\n",
       "      <td>d92132ce-06ac-3ab4-217f-97257a290b22</td>\n",
       "      <td>2011-09-25</td>\n",
       "      <td>NaN</td>\n",
       "      <td>Dannette613</td>\n",
       "      <td>Bauch723</td>\n",
       "      <td>NaN</td>\n",
       "      <td>white</td>\n",
       "      <td>nonhispanic</td>\n",
       "      <td>F</td>\n",
       "      <td>593 Doyle Ranch</td>\n",
       "      <td>Lemon Hill</td>\n",
       "      <td>California</td>\n",
       "      <td>Sacramento County</td>\n",
       "      <td>00000</td>\n",
       "      <td>2798.49</td>\n",
       "      <td>141417.37</td>\n",
       "      <td>31770</td>\n",
       "    </tr>\n",
       "    <tr>\n",
       "      <th>2</th>\n",
       "      <td>abc59f62-dc5a-5095-1141-80b4ee8be73b</td>\n",
       "      <td>1996-06-13</td>\n",
       "      <td>NaN</td>\n",
       "      <td>Jacque955</td>\n",
       "      <td>Satterfield305</td>\n",
       "      <td>M</td>\n",
       "      <td>white</td>\n",
       "      <td>nonhispanic</td>\n",
       "      <td>F</td>\n",
       "      <td>492 Keebler Estate</td>\n",
       "      <td>Fairfield</td>\n",
       "      <td>California</td>\n",
       "      <td>Solano County</td>\n",
       "      <td>94585</td>\n",
       "      <td>348990.79</td>\n",
       "      <td>186000.37</td>\n",
       "      <td>41915</td>\n",
       "    </tr>\n",
       "    <tr>\n",
       "      <th>3</th>\n",
       "      <td>54f1059e-6250-3949-6dd0-1dda9b85d22a</td>\n",
       "      <td>2003-02-12</td>\n",
       "      <td>NaN</td>\n",
       "      <td>Fredricka415</td>\n",
       "      <td>Crist667</td>\n",
       "      <td>NaN</td>\n",
       "      <td>white</td>\n",
       "      <td>nonhispanic</td>\n",
       "      <td>F</td>\n",
       "      <td>931 Bartell Ville Apt 84</td>\n",
       "      <td>Irvine</td>\n",
       "      <td>California</td>\n",
       "      <td>Orange County</td>\n",
       "      <td>92676</td>\n",
       "      <td>56198.94</td>\n",
       "      <td>133887.30</td>\n",
       "      <td>330702</td>\n",
       "    </tr>\n",
       "    <tr>\n",
       "      <th>4</th>\n",
       "      <td>239ae86a-96db-6211-9042-d3f2850aabb8</td>\n",
       "      <td>1970-06-17</td>\n",
       "      <td>NaN</td>\n",
       "      <td>Darrell400</td>\n",
       "      <td>Muller251</td>\n",
       "      <td>D</td>\n",
       "      <td>white</td>\n",
       "      <td>hispanic</td>\n",
       "      <td>M</td>\n",
       "      <td>541 Stracke Plaza</td>\n",
       "      <td>San Jose</td>\n",
       "      <td>California</td>\n",
       "      <td>Santa Clara County</td>\n",
       "      <td>95140</td>\n",
       "      <td>10675.97</td>\n",
       "      <td>194000.08</td>\n",
       "      <td>3928</td>\n",
       "    </tr>\n",
       "  </tbody>\n",
       "</table>\n",
       "</div>"
      ]
     },
     "metadata": {},
     "output_type": "display_data"
    }
   ],
   "execution_count": 39
  },
  {
   "metadata": {},
   "cell_type": "markdown",
   "source": "# 2.3 Missing values",
   "id": "374fb60c56863bbd"
  },
  {
   "metadata": {
    "ExecuteTime": {
     "end_time": "2025-03-19T00:31:22.862706Z",
     "start_time": "2025-03-19T00:31:22.857209Z"
    }
   },
   "cell_type": "code",
   "source": [
    "# Check for missing values in each column\n",
    "missing_values = df_patients_cleaned.isnull().sum()\n",
    "\n",
    "# Display only columns with missing values\n",
    "missing_values = missing_values[missing_values > 0]\n",
    "\n",
    "if missing_values.empty:\n",
    "    print(\"No missing values found.\")\n",
    "else:\n",
    "    print(\"Missing values per column:\")\n",
    "    print(missing_values)"
   ],
   "id": "9c8ef4776c64c441",
   "outputs": [
    {
     "name": "stdout",
     "output_type": "stream",
     "text": [
      "Missing values per column:\n",
      "DEATHDATE    2000\n",
      "MARITAL       811\n",
      "dtype: int64\n"
     ]
    }
   ],
   "execution_count": 40
  },
  {
   "metadata": {
    "ExecuteTime": {
     "end_time": "2025-03-19T00:31:22.907129Z",
     "start_time": "2025-03-19T00:31:22.893919Z"
    }
   },
   "cell_type": "code",
   "source": [
    "# Fill missing MARITAL status with 'Unknown' using assignment (correct method)\n",
    "df_patients_cleaned[\"MARITAL\"] = df_patients_cleaned[\"MARITAL\"].fillna(\"Unknown\")\n",
    "\n",
    "# Keep DEATHDATE as NULL (no replacement)\n",
    "\n",
    "# Display updated missing values\n",
    "print(\"Missing values after cleaning:\")\n",
    "print(df_patients_cleaned.isnull().sum())\n",
    "# Show first 5 rows after cleanup\n",
    "display(df_patients_cleaned.head())"
   ],
   "id": "c250724fd0c0d7ca",
   "outputs": [
    {
     "name": "stdout",
     "output_type": "stream",
     "text": [
      "Missing values after cleaning:\n",
      "Id                        0\n",
      "BIRTHDATE                 0\n",
      "DEATHDATE              2000\n",
      "FIRST                     0\n",
      "LAST                      0\n",
      "MARITAL                   0\n",
      "RACE                      0\n",
      "ETHNICITY                 0\n",
      "GENDER                    0\n",
      "ADDRESS                   0\n",
      "CITY                      0\n",
      "STATE                     0\n",
      "COUNTY                    0\n",
      "ZIP                       0\n",
      "HEALTHCARE_EXPENSES       0\n",
      "HEALTHCARE_COVERAGE       0\n",
      "INCOME                    0\n",
      "dtype: int64\n"
     ]
    },
    {
     "data": {
      "text/plain": [
       "                                     Id   BIRTHDATE DEATHDATE         FIRST            LAST  MARITAL   RACE    ETHNICITY GENDER                       ADDRESS        CITY       STATE              COUNTY    ZIP HEALTHCARE_EXPENSES HEALTHCARE_COVERAGE  INCOME\n",
       "0  a02a3f43-b6f4-d209-4062-af0cec3b22c1  2015-08-02       NaN     Jacobo456       Malave728  Unknown  white     hispanic      M  530 Zboncak Landing Suite 63  Montebello  California  Los Angeles County  90022            33339.29             4690.13   65295\n",
       "1  d92132ce-06ac-3ab4-217f-97257a290b22  2011-09-25       NaN   Dannette613        Bauch723  Unknown  white  nonhispanic      F               593 Doyle Ranch  Lemon Hill  California   Sacramento County  00000             2798.49           141417.37   31770\n",
       "2  abc59f62-dc5a-5095-1141-80b4ee8be73b  1996-06-13       NaN     Jacque955  Satterfield305        M  white  nonhispanic      F            492 Keebler Estate   Fairfield  California       Solano County  94585           348990.79           186000.37   41915\n",
       "3  54f1059e-6250-3949-6dd0-1dda9b85d22a  2003-02-12       NaN  Fredricka415        Crist667  Unknown  white  nonhispanic      F      931 Bartell Ville Apt 84      Irvine  California       Orange County  92676            56198.94           133887.30  330702\n",
       "4  239ae86a-96db-6211-9042-d3f2850aabb8  1970-06-17       NaN    Darrell400       Muller251        D  white     hispanic      M             541 Stracke Plaza    San Jose  California  Santa Clara County  95140            10675.97           194000.08    3928"
      ],
      "text/html": [
       "<div>\n",
       "<style scoped>\n",
       "    .dataframe tbody tr th:only-of-type {\n",
       "        vertical-align: middle;\n",
       "    }\n",
       "\n",
       "    .dataframe tbody tr th {\n",
       "        vertical-align: top;\n",
       "    }\n",
       "\n",
       "    .dataframe thead th {\n",
       "        text-align: right;\n",
       "    }\n",
       "</style>\n",
       "<table border=\"1\" class=\"dataframe\">\n",
       "  <thead>\n",
       "    <tr style=\"text-align: right;\">\n",
       "      <th></th>\n",
       "      <th>Id</th>\n",
       "      <th>BIRTHDATE</th>\n",
       "      <th>DEATHDATE</th>\n",
       "      <th>FIRST</th>\n",
       "      <th>LAST</th>\n",
       "      <th>MARITAL</th>\n",
       "      <th>RACE</th>\n",
       "      <th>ETHNICITY</th>\n",
       "      <th>GENDER</th>\n",
       "      <th>ADDRESS</th>\n",
       "      <th>CITY</th>\n",
       "      <th>STATE</th>\n",
       "      <th>COUNTY</th>\n",
       "      <th>ZIP</th>\n",
       "      <th>HEALTHCARE_EXPENSES</th>\n",
       "      <th>HEALTHCARE_COVERAGE</th>\n",
       "      <th>INCOME</th>\n",
       "    </tr>\n",
       "  </thead>\n",
       "  <tbody>\n",
       "    <tr>\n",
       "      <th>0</th>\n",
       "      <td>a02a3f43-b6f4-d209-4062-af0cec3b22c1</td>\n",
       "      <td>2015-08-02</td>\n",
       "      <td>NaN</td>\n",
       "      <td>Jacobo456</td>\n",
       "      <td>Malave728</td>\n",
       "      <td>Unknown</td>\n",
       "      <td>white</td>\n",
       "      <td>hispanic</td>\n",
       "      <td>M</td>\n",
       "      <td>530 Zboncak Landing Suite 63</td>\n",
       "      <td>Montebello</td>\n",
       "      <td>California</td>\n",
       "      <td>Los Angeles County</td>\n",
       "      <td>90022</td>\n",
       "      <td>33339.29</td>\n",
       "      <td>4690.13</td>\n",
       "      <td>65295</td>\n",
       "    </tr>\n",
       "    <tr>\n",
       "      <th>1</th>\n",
       "      <td>d92132ce-06ac-3ab4-217f-97257a290b22</td>\n",
       "      <td>2011-09-25</td>\n",
       "      <td>NaN</td>\n",
       "      <td>Dannette613</td>\n",
       "      <td>Bauch723</td>\n",
       "      <td>Unknown</td>\n",
       "      <td>white</td>\n",
       "      <td>nonhispanic</td>\n",
       "      <td>F</td>\n",
       "      <td>593 Doyle Ranch</td>\n",
       "      <td>Lemon Hill</td>\n",
       "      <td>California</td>\n",
       "      <td>Sacramento County</td>\n",
       "      <td>00000</td>\n",
       "      <td>2798.49</td>\n",
       "      <td>141417.37</td>\n",
       "      <td>31770</td>\n",
       "    </tr>\n",
       "    <tr>\n",
       "      <th>2</th>\n",
       "      <td>abc59f62-dc5a-5095-1141-80b4ee8be73b</td>\n",
       "      <td>1996-06-13</td>\n",
       "      <td>NaN</td>\n",
       "      <td>Jacque955</td>\n",
       "      <td>Satterfield305</td>\n",
       "      <td>M</td>\n",
       "      <td>white</td>\n",
       "      <td>nonhispanic</td>\n",
       "      <td>F</td>\n",
       "      <td>492 Keebler Estate</td>\n",
       "      <td>Fairfield</td>\n",
       "      <td>California</td>\n",
       "      <td>Solano County</td>\n",
       "      <td>94585</td>\n",
       "      <td>348990.79</td>\n",
       "      <td>186000.37</td>\n",
       "      <td>41915</td>\n",
       "    </tr>\n",
       "    <tr>\n",
       "      <th>3</th>\n",
       "      <td>54f1059e-6250-3949-6dd0-1dda9b85d22a</td>\n",
       "      <td>2003-02-12</td>\n",
       "      <td>NaN</td>\n",
       "      <td>Fredricka415</td>\n",
       "      <td>Crist667</td>\n",
       "      <td>Unknown</td>\n",
       "      <td>white</td>\n",
       "      <td>nonhispanic</td>\n",
       "      <td>F</td>\n",
       "      <td>931 Bartell Ville Apt 84</td>\n",
       "      <td>Irvine</td>\n",
       "      <td>California</td>\n",
       "      <td>Orange County</td>\n",
       "      <td>92676</td>\n",
       "      <td>56198.94</td>\n",
       "      <td>133887.30</td>\n",
       "      <td>330702</td>\n",
       "    </tr>\n",
       "    <tr>\n",
       "      <th>4</th>\n",
       "      <td>239ae86a-96db-6211-9042-d3f2850aabb8</td>\n",
       "      <td>1970-06-17</td>\n",
       "      <td>NaN</td>\n",
       "      <td>Darrell400</td>\n",
       "      <td>Muller251</td>\n",
       "      <td>D</td>\n",
       "      <td>white</td>\n",
       "      <td>hispanic</td>\n",
       "      <td>M</td>\n",
       "      <td>541 Stracke Plaza</td>\n",
       "      <td>San Jose</td>\n",
       "      <td>California</td>\n",
       "      <td>Santa Clara County</td>\n",
       "      <td>95140</td>\n",
       "      <td>10675.97</td>\n",
       "      <td>194000.08</td>\n",
       "      <td>3928</td>\n",
       "    </tr>\n",
       "  </tbody>\n",
       "</table>\n",
       "</div>"
      ]
     },
     "metadata": {},
     "output_type": "display_data"
    }
   ],
   "execution_count": 41
  },
  {
   "metadata": {
    "ExecuteTime": {
     "end_time": "2025-03-19T00:31:22.958378Z",
     "start_time": "2025-03-19T00:31:22.955464Z"
    }
   },
   "cell_type": "code",
   "source": [
    "# Check data types of the cleaned dataset\n",
    "print(df_patients_cleaned.dtypes)\n"
   ],
   "id": "f7d6e964cb4e1ee9",
   "outputs": [
    {
     "name": "stdout",
     "output_type": "stream",
     "text": [
      "Id                     object\n",
      "BIRTHDATE              object\n",
      "DEATHDATE              object\n",
      "FIRST                  object\n",
      "LAST                   object\n",
      "MARITAL                object\n",
      "RACE                   object\n",
      "ETHNICITY              object\n",
      "GENDER                 object\n",
      "ADDRESS                object\n",
      "CITY                   object\n",
      "STATE                  object\n",
      "COUNTY                 object\n",
      "ZIP                    object\n",
      "HEALTHCARE_EXPENSES    object\n",
      "HEALTHCARE_COVERAGE    object\n",
      "INCOME                 object\n",
      "dtype: object\n"
     ]
    }
   ],
   "execution_count": 42
  },
  {
   "metadata": {
    "ExecuteTime": {
     "end_time": "2025-03-19T00:31:23.036351Z",
     "start_time": "2025-03-19T00:31:23.001113Z"
    }
   },
   "cell_type": "code",
   "source": [
    "import pandas as pd\n",
    "\n",
    "# Rename Id column to PATIENTID\n",
    "df_patients_cleaned = df_patients_cleaned.rename(columns={\"Id\": \"PATIENTID\"})\n",
    "\n",
    "# Convert BIRTHDATE and DEATHDATE to datetime format\n",
    "df_patients_cleaned[\"BIRTHDATE\"] = pd.to_datetime(df_patients_cleaned[\"BIRTHDATE\"], errors=\"coerce\")\n",
    "df_patients_cleaned[\"DEATHDATE\"] = pd.to_datetime(df_patients_cleaned[\"DEATHDATE\"], errors=\"coerce\")\n",
    "\n",
    "# Calculate AGE from BIRTHDATE\n",
    "today = pd.Timestamp.today()\n",
    "df_patients_cleaned[\"AGE\"] = df_patients_cleaned[\"BIRTHDATE\"].apply(lambda x: today.year - x.year if pd.notnull(x) else None)\n",
    "\n",
    "# Convert financial columns to float\n",
    "financial_columns = [\"HEALTHCARE_EXPENSES\", \"HEALTHCARE_COVERAGE\", \"INCOME\"]\n",
    "for col in financial_columns:\n",
    "    df_patients_cleaned[col] = pd.to_numeric(df_patients_cleaned[col], errors=\"coerce\")\n",
    "\n",
    "# Round financial values to 2 decimal places\n",
    "df_patients_cleaned[financial_columns] = df_patients_cleaned[financial_columns].round(2)\n",
    "\n",
    "# Remove numbers from FIRST and LAST names\n",
    "df_patients_cleaned[\"FIRST\"] = df_patients_cleaned[\"FIRST\"].apply(lambda x: re.sub(r'\\d+$', '', x) if pd.notnull(x) else x)\n",
    "df_patients_cleaned[\"LAST\"] = df_patients_cleaned[\"LAST\"].apply(lambda x: re.sub(r'\\d+$', '', x) if pd.notnull(x) else x)\n",
    "\n",
    "# Display the updated data types and first few rows\n",
    "print(df_patients_cleaned.dtypes)\n",
    "display(df_patients_cleaned.head())"
   ],
   "id": "1faaf3f0c73d7bd0",
   "outputs": [
    {
     "name": "stdout",
     "output_type": "stream",
     "text": [
      "PATIENTID                      object\n",
      "BIRTHDATE              datetime64[ns]\n",
      "DEATHDATE              datetime64[ns]\n",
      "FIRST                          object\n",
      "LAST                           object\n",
      "MARITAL                        object\n",
      "RACE                           object\n",
      "ETHNICITY                      object\n",
      "GENDER                         object\n",
      "ADDRESS                        object\n",
      "CITY                           object\n",
      "STATE                          object\n",
      "COUNTY                         object\n",
      "ZIP                            object\n",
      "HEALTHCARE_EXPENSES           float64\n",
      "HEALTHCARE_COVERAGE           float64\n",
      "INCOME                          int64\n",
      "AGE                             int64\n",
      "dtype: object\n"
     ]
    },
    {
     "data": {
      "text/plain": [
       "                              PATIENTID  BIRTHDATE DEATHDATE      FIRST         LAST  MARITAL   RACE    ETHNICITY GENDER                       ADDRESS        CITY       STATE              COUNTY    ZIP  HEALTHCARE_EXPENSES  HEALTHCARE_COVERAGE  INCOME  AGE\n",
       "0  a02a3f43-b6f4-d209-4062-af0cec3b22c1 2015-08-02       NaT     Jacobo       Malave  Unknown  white     hispanic      M  530 Zboncak Landing Suite 63  Montebello  California  Los Angeles County  90022             33339.29              4690.13   65295   10\n",
       "1  d92132ce-06ac-3ab4-217f-97257a290b22 2011-09-25       NaT   Dannette        Bauch  Unknown  white  nonhispanic      F               593 Doyle Ranch  Lemon Hill  California   Sacramento County  00000              2798.49            141417.37   31770   14\n",
       "2  abc59f62-dc5a-5095-1141-80b4ee8be73b 1996-06-13       NaT     Jacque  Satterfield        M  white  nonhispanic      F            492 Keebler Estate   Fairfield  California       Solano County  94585            348990.79            186000.37   41915   29\n",
       "3  54f1059e-6250-3949-6dd0-1dda9b85d22a 2003-02-12       NaT  Fredricka        Crist  Unknown  white  nonhispanic      F      931 Bartell Ville Apt 84      Irvine  California       Orange County  92676             56198.94            133887.30  330702   22\n",
       "4  239ae86a-96db-6211-9042-d3f2850aabb8 1970-06-17       NaT    Darrell       Muller        D  white     hispanic      M             541 Stracke Plaza    San Jose  California  Santa Clara County  95140             10675.97            194000.08    3928   55"
      ],
      "text/html": [
       "<div>\n",
       "<style scoped>\n",
       "    .dataframe tbody tr th:only-of-type {\n",
       "        vertical-align: middle;\n",
       "    }\n",
       "\n",
       "    .dataframe tbody tr th {\n",
       "        vertical-align: top;\n",
       "    }\n",
       "\n",
       "    .dataframe thead th {\n",
       "        text-align: right;\n",
       "    }\n",
       "</style>\n",
       "<table border=\"1\" class=\"dataframe\">\n",
       "  <thead>\n",
       "    <tr style=\"text-align: right;\">\n",
       "      <th></th>\n",
       "      <th>PATIENTID</th>\n",
       "      <th>BIRTHDATE</th>\n",
       "      <th>DEATHDATE</th>\n",
       "      <th>FIRST</th>\n",
       "      <th>LAST</th>\n",
       "      <th>MARITAL</th>\n",
       "      <th>RACE</th>\n",
       "      <th>ETHNICITY</th>\n",
       "      <th>GENDER</th>\n",
       "      <th>ADDRESS</th>\n",
       "      <th>CITY</th>\n",
       "      <th>STATE</th>\n",
       "      <th>COUNTY</th>\n",
       "      <th>ZIP</th>\n",
       "      <th>HEALTHCARE_EXPENSES</th>\n",
       "      <th>HEALTHCARE_COVERAGE</th>\n",
       "      <th>INCOME</th>\n",
       "      <th>AGE</th>\n",
       "    </tr>\n",
       "  </thead>\n",
       "  <tbody>\n",
       "    <tr>\n",
       "      <th>0</th>\n",
       "      <td>a02a3f43-b6f4-d209-4062-af0cec3b22c1</td>\n",
       "      <td>2015-08-02</td>\n",
       "      <td>NaT</td>\n",
       "      <td>Jacobo</td>\n",
       "      <td>Malave</td>\n",
       "      <td>Unknown</td>\n",
       "      <td>white</td>\n",
       "      <td>hispanic</td>\n",
       "      <td>M</td>\n",
       "      <td>530 Zboncak Landing Suite 63</td>\n",
       "      <td>Montebello</td>\n",
       "      <td>California</td>\n",
       "      <td>Los Angeles County</td>\n",
       "      <td>90022</td>\n",
       "      <td>33339.29</td>\n",
       "      <td>4690.13</td>\n",
       "      <td>65295</td>\n",
       "      <td>10</td>\n",
       "    </tr>\n",
       "    <tr>\n",
       "      <th>1</th>\n",
       "      <td>d92132ce-06ac-3ab4-217f-97257a290b22</td>\n",
       "      <td>2011-09-25</td>\n",
       "      <td>NaT</td>\n",
       "      <td>Dannette</td>\n",
       "      <td>Bauch</td>\n",
       "      <td>Unknown</td>\n",
       "      <td>white</td>\n",
       "      <td>nonhispanic</td>\n",
       "      <td>F</td>\n",
       "      <td>593 Doyle Ranch</td>\n",
       "      <td>Lemon Hill</td>\n",
       "      <td>California</td>\n",
       "      <td>Sacramento County</td>\n",
       "      <td>00000</td>\n",
       "      <td>2798.49</td>\n",
       "      <td>141417.37</td>\n",
       "      <td>31770</td>\n",
       "      <td>14</td>\n",
       "    </tr>\n",
       "    <tr>\n",
       "      <th>2</th>\n",
       "      <td>abc59f62-dc5a-5095-1141-80b4ee8be73b</td>\n",
       "      <td>1996-06-13</td>\n",
       "      <td>NaT</td>\n",
       "      <td>Jacque</td>\n",
       "      <td>Satterfield</td>\n",
       "      <td>M</td>\n",
       "      <td>white</td>\n",
       "      <td>nonhispanic</td>\n",
       "      <td>F</td>\n",
       "      <td>492 Keebler Estate</td>\n",
       "      <td>Fairfield</td>\n",
       "      <td>California</td>\n",
       "      <td>Solano County</td>\n",
       "      <td>94585</td>\n",
       "      <td>348990.79</td>\n",
       "      <td>186000.37</td>\n",
       "      <td>41915</td>\n",
       "      <td>29</td>\n",
       "    </tr>\n",
       "    <tr>\n",
       "      <th>3</th>\n",
       "      <td>54f1059e-6250-3949-6dd0-1dda9b85d22a</td>\n",
       "      <td>2003-02-12</td>\n",
       "      <td>NaT</td>\n",
       "      <td>Fredricka</td>\n",
       "      <td>Crist</td>\n",
       "      <td>Unknown</td>\n",
       "      <td>white</td>\n",
       "      <td>nonhispanic</td>\n",
       "      <td>F</td>\n",
       "      <td>931 Bartell Ville Apt 84</td>\n",
       "      <td>Irvine</td>\n",
       "      <td>California</td>\n",
       "      <td>Orange County</td>\n",
       "      <td>92676</td>\n",
       "      <td>56198.94</td>\n",
       "      <td>133887.30</td>\n",
       "      <td>330702</td>\n",
       "      <td>22</td>\n",
       "    </tr>\n",
       "    <tr>\n",
       "      <th>4</th>\n",
       "      <td>239ae86a-96db-6211-9042-d3f2850aabb8</td>\n",
       "      <td>1970-06-17</td>\n",
       "      <td>NaT</td>\n",
       "      <td>Darrell</td>\n",
       "      <td>Muller</td>\n",
       "      <td>D</td>\n",
       "      <td>white</td>\n",
       "      <td>hispanic</td>\n",
       "      <td>M</td>\n",
       "      <td>541 Stracke Plaza</td>\n",
       "      <td>San Jose</td>\n",
       "      <td>California</td>\n",
       "      <td>Santa Clara County</td>\n",
       "      <td>95140</td>\n",
       "      <td>10675.97</td>\n",
       "      <td>194000.08</td>\n",
       "      <td>3928</td>\n",
       "      <td>55</td>\n",
       "    </tr>\n",
       "  </tbody>\n",
       "</table>\n",
       "</div>"
      ]
     },
     "metadata": {},
     "output_type": "display_data"
    }
   ],
   "execution_count": 43
  },
  {
   "metadata": {
    "ExecuteTime": {
     "end_time": "2025-03-19T00:34:31.114259Z",
     "start_time": "2025-03-19T00:34:31.109221Z"
    }
   },
   "cell_type": "code",
   "source": "print(\"Missing PATIENTID values:\", df_patients_cleaned[\"PATIENTID\"].isnull().sum())\n",
   "id": "41d50e0ccd95f630",
   "outputs": [
    {
     "name": "stdout",
     "output_type": "stream",
     "text": [
      "Missing PATIENTID values: 0\n"
     ]
    }
   ],
   "execution_count": 44
  },
  {
   "metadata": {
    "ExecuteTime": {
     "end_time": "2025-03-19T00:36:53.649640Z",
     "start_time": "2025-03-19T00:36:53.638565Z"
    }
   },
   "cell_type": "code",
   "source": "print(df_patients_cleaned[\"ZIP\"].unique()[:10])  # Show sample ZIP values\n",
   "id": "f454e479f77b9cbb",
   "outputs": [
    {
     "name": "stdout",
     "output_type": "stream",
     "text": [
      "['90022' '00000' '94585' '92676' '95140' '90066' '91210' '92870' '93117'\n",
      " '92703']\n"
     ]
    }
   ],
   "execution_count": 45
  },
  {
   "metadata": {
    "ExecuteTime": {
     "end_time": "2025-03-19T00:37:02.671827Z",
     "start_time": "2025-03-19T00:37:02.665827Z"
    }
   },
   "cell_type": "code",
   "source": "df_patients_cleaned[\"ZIP\"] = df_patients_cleaned[\"ZIP\"].astype(str)\n",
   "id": "136cdd658d063231",
   "outputs": [],
   "execution_count": 46
  },
  {
   "metadata": {
    "ExecuteTime": {
     "end_time": "2025-03-19T00:38:00.679150Z",
     "start_time": "2025-03-19T00:38:00.633040Z"
    }
   },
   "cell_type": "code",
   "source": [
    "import os\n",
    "\n",
    "PROCESSED_DATA_PATH = \"../backend/data/processed/\"\n",
    "os.makedirs(PROCESSED_DATA_PATH, exist_ok=True)\n",
    "\n",
    "df_patients_cleaned.to_csv(os.path.join(PROCESSED_DATA_PATH, \"patients_cleaned.csv\"), index=False)\n",
    "\n",
    "print(\"✅ Cleaned patients dataset saved successfully!\")\n"
   ],
   "id": "6c4c9ce7fea38fe8",
   "outputs": [
    {
     "name": "stdout",
     "output_type": "stream",
     "text": [
      "✅ Cleaned patients dataset saved successfully!\n"
     ]
    }
   ],
   "execution_count": 47
  },
  {
   "metadata": {},
   "cell_type": "markdown",
   "source": "# 3.1 Conditions Dataset",
   "id": "32e1e0f719bcc063"
  },
  {
   "metadata": {
    "ExecuteTime": {
     "end_time": "2025-03-19T03:21:20.386035Z",
     "start_time": "2025-03-19T03:21:20.374442Z"
    }
   },
   "cell_type": "code",
   "source": [
    "# Load conditions dataset\n",
    "df_conditions = dfs[\"conditions\"]\n",
    "\n",
    "# Display all column names\n",
    "print(\"Columns in conditions dataset:\")\n",
    "print(df_conditions.columns.tolist())\n",
    "\n",
    "# Show first 5 rows\n",
    "display(df_conditions.head())"
   ],
   "id": "b2e25e94ee32c4af",
   "outputs": [
    {
     "name": "stdout",
     "output_type": "stream",
     "text": [
      "Columns in conditions dataset:\n",
      "['START', 'STOP', 'PATIENT', 'ENCOUNTER', 'SYSTEM', 'CODE', 'DESCRIPTION']\n"
     ]
    },
    {
     "data": {
      "text/plain": [
       "        START        STOP                               PATIENT                             ENCOUNTER                  SYSTEM       CODE                            DESCRIPTION\n",
       "0  2015-03-01  2016-09-04  d92132ce-06ac-3ab4-217f-97257a290b22  e0819fcd-cd3c-371c-efa4-d923e3788730  http://snomed.info/sct  314529007      Medication review due (situation)\n",
       "1  2015-08-02  2016-04-10  a02a3f43-b6f4-d209-4062-af0cec3b22c1  b06e3a3b-7d43-d28d-06c9-db649f132502  http://snomed.info/sct  314529007      Medication review due (situation)\n",
       "2  2016-09-23  2016-10-23  d92132ce-06ac-3ab4-217f-97257a290b22  c138ba5e-eea4-b4a1-d431-30ae17bedfad  http://snomed.info/sct   32911000                     Homeless (finding)\n",
       "3  2015-09-13  2015-11-08  a02a3f43-b6f4-d209-4062-af0cec3b22c1  722dacab-9a59-66ca-16f9-16703dcd2543  http://snomed.info/sct   65363002                Otitis media (disorder)\n",
       "4  2017-08-12         NaN  d92132ce-06ac-3ab4-217f-97257a290b22  364c86f0-1d1f-6fcb-bd8c-5f55d8bc0d47  http://snomed.info/sct  367498001  Seasonal allergic rhinitis (disorder)"
      ],
      "text/html": [
       "<div>\n",
       "<style scoped>\n",
       "    .dataframe tbody tr th:only-of-type {\n",
       "        vertical-align: middle;\n",
       "    }\n",
       "\n",
       "    .dataframe tbody tr th {\n",
       "        vertical-align: top;\n",
       "    }\n",
       "\n",
       "    .dataframe thead th {\n",
       "        text-align: right;\n",
       "    }\n",
       "</style>\n",
       "<table border=\"1\" class=\"dataframe\">\n",
       "  <thead>\n",
       "    <tr style=\"text-align: right;\">\n",
       "      <th></th>\n",
       "      <th>START</th>\n",
       "      <th>STOP</th>\n",
       "      <th>PATIENT</th>\n",
       "      <th>ENCOUNTER</th>\n",
       "      <th>SYSTEM</th>\n",
       "      <th>CODE</th>\n",
       "      <th>DESCRIPTION</th>\n",
       "    </tr>\n",
       "  </thead>\n",
       "  <tbody>\n",
       "    <tr>\n",
       "      <th>0</th>\n",
       "      <td>2015-03-01</td>\n",
       "      <td>2016-09-04</td>\n",
       "      <td>d92132ce-06ac-3ab4-217f-97257a290b22</td>\n",
       "      <td>e0819fcd-cd3c-371c-efa4-d923e3788730</td>\n",
       "      <td>http://snomed.info/sct</td>\n",
       "      <td>314529007</td>\n",
       "      <td>Medication review due (situation)</td>\n",
       "    </tr>\n",
       "    <tr>\n",
       "      <th>1</th>\n",
       "      <td>2015-08-02</td>\n",
       "      <td>2016-04-10</td>\n",
       "      <td>a02a3f43-b6f4-d209-4062-af0cec3b22c1</td>\n",
       "      <td>b06e3a3b-7d43-d28d-06c9-db649f132502</td>\n",
       "      <td>http://snomed.info/sct</td>\n",
       "      <td>314529007</td>\n",
       "      <td>Medication review due (situation)</td>\n",
       "    </tr>\n",
       "    <tr>\n",
       "      <th>2</th>\n",
       "      <td>2016-09-23</td>\n",
       "      <td>2016-10-23</td>\n",
       "      <td>d92132ce-06ac-3ab4-217f-97257a290b22</td>\n",
       "      <td>c138ba5e-eea4-b4a1-d431-30ae17bedfad</td>\n",
       "      <td>http://snomed.info/sct</td>\n",
       "      <td>32911000</td>\n",
       "      <td>Homeless (finding)</td>\n",
       "    </tr>\n",
       "    <tr>\n",
       "      <th>3</th>\n",
       "      <td>2015-09-13</td>\n",
       "      <td>2015-11-08</td>\n",
       "      <td>a02a3f43-b6f4-d209-4062-af0cec3b22c1</td>\n",
       "      <td>722dacab-9a59-66ca-16f9-16703dcd2543</td>\n",
       "      <td>http://snomed.info/sct</td>\n",
       "      <td>65363002</td>\n",
       "      <td>Otitis media (disorder)</td>\n",
       "    </tr>\n",
       "    <tr>\n",
       "      <th>4</th>\n",
       "      <td>2017-08-12</td>\n",
       "      <td>NaN</td>\n",
       "      <td>d92132ce-06ac-3ab4-217f-97257a290b22</td>\n",
       "      <td>364c86f0-1d1f-6fcb-bd8c-5f55d8bc0d47</td>\n",
       "      <td>http://snomed.info/sct</td>\n",
       "      <td>367498001</td>\n",
       "      <td>Seasonal allergic rhinitis (disorder)</td>\n",
       "    </tr>\n",
       "  </tbody>\n",
       "</table>\n",
       "</div>"
      ]
     },
     "metadata": {},
     "output_type": "display_data"
    }
   ],
   "execution_count": 69
  },
  {
   "metadata": {},
   "cell_type": "markdown",
   "source": "# 3.2 Drop unnecessary columns",
   "id": "4dc842165efb768e"
  },
  {
   "metadata": {
    "ExecuteTime": {
     "end_time": "2025-03-19T03:21:20.564410Z",
     "start_time": "2025-03-19T03:21:20.516262Z"
    }
   },
   "cell_type": "code",
   "source": [
    "import pandas as pd\n",
    "\n",
    "# Load conditions dataset\n",
    "df_conditions = dfs[\"conditions\"]\n",
    "\n",
    "# Drop SYSTEM and CODE columns\n",
    "df_conditions_cleaned = df_conditions.drop(columns=[\"SYSTEM\", \"CODE\"])\n",
    "\n",
    "# Convert START and STOP to datetime format\n",
    "df_conditions_cleaned[\"START\"] = pd.to_datetime(df_conditions_cleaned[\"START\"], errors=\"coerce\")\n",
    "df_conditions_cleaned[\"STOP\"] = pd.to_datetime(df_conditions_cleaned[\"STOP\"], errors=\"coerce\")\n",
    "\n",
    "# Display cleaned data\n",
    "print(df_conditions_cleaned.dtypes)\n",
    "display(df_conditions_cleaned.head())"
   ],
   "id": "51b37bcaae4b4a15",
   "outputs": [
    {
     "name": "stdout",
     "output_type": "stream",
     "text": [
      "START          datetime64[ns]\n",
      "STOP           datetime64[ns]\n",
      "PATIENT                object\n",
      "ENCOUNTER              object\n",
      "DESCRIPTION            object\n",
      "dtype: object\n"
     ]
    },
    {
     "data": {
      "text/plain": [
       "       START       STOP                               PATIENT                             ENCOUNTER                            DESCRIPTION\n",
       "0 2015-03-01 2016-09-04  d92132ce-06ac-3ab4-217f-97257a290b22  e0819fcd-cd3c-371c-efa4-d923e3788730      Medication review due (situation)\n",
       "1 2015-08-02 2016-04-10  a02a3f43-b6f4-d209-4062-af0cec3b22c1  b06e3a3b-7d43-d28d-06c9-db649f132502      Medication review due (situation)\n",
       "2 2016-09-23 2016-10-23  d92132ce-06ac-3ab4-217f-97257a290b22  c138ba5e-eea4-b4a1-d431-30ae17bedfad                     Homeless (finding)\n",
       "3 2015-09-13 2015-11-08  a02a3f43-b6f4-d209-4062-af0cec3b22c1  722dacab-9a59-66ca-16f9-16703dcd2543                Otitis media (disorder)\n",
       "4 2017-08-12        NaT  d92132ce-06ac-3ab4-217f-97257a290b22  364c86f0-1d1f-6fcb-bd8c-5f55d8bc0d47  Seasonal allergic rhinitis (disorder)"
      ],
      "text/html": [
       "<div>\n",
       "<style scoped>\n",
       "    .dataframe tbody tr th:only-of-type {\n",
       "        vertical-align: middle;\n",
       "    }\n",
       "\n",
       "    .dataframe tbody tr th {\n",
       "        vertical-align: top;\n",
       "    }\n",
       "\n",
       "    .dataframe thead th {\n",
       "        text-align: right;\n",
       "    }\n",
       "</style>\n",
       "<table border=\"1\" class=\"dataframe\">\n",
       "  <thead>\n",
       "    <tr style=\"text-align: right;\">\n",
       "      <th></th>\n",
       "      <th>START</th>\n",
       "      <th>STOP</th>\n",
       "      <th>PATIENT</th>\n",
       "      <th>ENCOUNTER</th>\n",
       "      <th>DESCRIPTION</th>\n",
       "    </tr>\n",
       "  </thead>\n",
       "  <tbody>\n",
       "    <tr>\n",
       "      <th>0</th>\n",
       "      <td>2015-03-01</td>\n",
       "      <td>2016-09-04</td>\n",
       "      <td>d92132ce-06ac-3ab4-217f-97257a290b22</td>\n",
       "      <td>e0819fcd-cd3c-371c-efa4-d923e3788730</td>\n",
       "      <td>Medication review due (situation)</td>\n",
       "    </tr>\n",
       "    <tr>\n",
       "      <th>1</th>\n",
       "      <td>2015-08-02</td>\n",
       "      <td>2016-04-10</td>\n",
       "      <td>a02a3f43-b6f4-d209-4062-af0cec3b22c1</td>\n",
       "      <td>b06e3a3b-7d43-d28d-06c9-db649f132502</td>\n",
       "      <td>Medication review due (situation)</td>\n",
       "    </tr>\n",
       "    <tr>\n",
       "      <th>2</th>\n",
       "      <td>2016-09-23</td>\n",
       "      <td>2016-10-23</td>\n",
       "      <td>d92132ce-06ac-3ab4-217f-97257a290b22</td>\n",
       "      <td>c138ba5e-eea4-b4a1-d431-30ae17bedfad</td>\n",
       "      <td>Homeless (finding)</td>\n",
       "    </tr>\n",
       "    <tr>\n",
       "      <th>3</th>\n",
       "      <td>2015-09-13</td>\n",
       "      <td>2015-11-08</td>\n",
       "      <td>a02a3f43-b6f4-d209-4062-af0cec3b22c1</td>\n",
       "      <td>722dacab-9a59-66ca-16f9-16703dcd2543</td>\n",
       "      <td>Otitis media (disorder)</td>\n",
       "    </tr>\n",
       "    <tr>\n",
       "      <th>4</th>\n",
       "      <td>2017-08-12</td>\n",
       "      <td>NaT</td>\n",
       "      <td>d92132ce-06ac-3ab4-217f-97257a290b22</td>\n",
       "      <td>364c86f0-1d1f-6fcb-bd8c-5f55d8bc0d47</td>\n",
       "      <td>Seasonal allergic rhinitis (disorder)</td>\n",
       "    </tr>\n",
       "  </tbody>\n",
       "</table>\n",
       "</div>"
      ]
     },
     "metadata": {},
     "output_type": "display_data"
    }
   ],
   "execution_count": 70
  },
  {
   "metadata": {},
   "cell_type": "markdown",
   "source": "# 3.3 Creating new useful columns",
   "id": "7459dccf59e9217c"
  },
  {
   "metadata": {
    "ExecuteTime": {
     "end_time": "2025-03-19T03:21:20.976253Z",
     "start_time": "2025-03-19T03:21:20.637610Z"
    }
   },
   "cell_type": "code",
   "source": [
    "# Rename PATIENT column to PATIENTID\n",
    "df_conditions_cleaned = df_conditions_cleaned.rename(columns={\"PATIENT\": \"PATIENTID\", \"ENCOUNTER\": \"ENCOUNTERID\"})\n",
    "\n",
    "# Calculate condition duration in days and round to integer\n",
    "df_conditions_cleaned[\"CONDITION_DURATION_DAYS\"] = (df_conditions_cleaned[\"STOP\"] - df_conditions_cleaned[\"START\"]).dt.days.fillna(0).astype(int)\n",
    "\n",
    "import re\n",
    "\n",
    "# Extract condition type (text inside parentheses)\n",
    "df_conditions_cleaned[\"CONDITION_TYPE\"] = df_conditions_cleaned[\"DESCRIPTION\"].apply(\n",
    "    lambda x: re.findall(r'\\((.*?)\\)', x)[-1] if pd.notnull(x) and \"(\" in x else \"Unknown\"\n",
    ")\n",
    "\n",
    "# Remove condition type from DESCRIPTION column\n",
    "df_conditions_cleaned[\"DESCRIPTION\"] = df_conditions_cleaned[\"DESCRIPTION\"].apply(\n",
    "    lambda x: re.sub(r'\\s*\\(.*?\\)', '', x) if pd.notnull(x) else x\n",
    ")\n",
    "\n",
    "\n",
    "# Display to confirm\n",
    "# Display cleaned data\n",
    "print(df_conditions_cleaned.dtypes)\n",
    "display(df_conditions_cleaned.head())\n"
   ],
   "id": "171d4b29472ca4ea",
   "outputs": [
    {
     "name": "stdout",
     "output_type": "stream",
     "text": [
      "START             datetime64[ns]\n",
      "STOP              datetime64[ns]\n",
      "PATIENTID                 object\n",
      "ENCOUNTER                 object\n",
      "DESCRIPTION               object\n",
      "DURATION_DAYS            float64\n",
      "CONDITION_TYPE            object\n",
      "dtype: object\n"
     ]
    },
    {
     "data": {
      "text/plain": [
       "       START       STOP                             PATIENTID                             ENCOUNTER                 DESCRIPTION  DURATION_DAYS CONDITION_TYPE\n",
       "0 2015-03-01 2016-09-04  d92132ce-06ac-3ab4-217f-97257a290b22  e0819fcd-cd3c-371c-efa4-d923e3788730       Medication review due          553.0      situation\n",
       "1 2015-08-02 2016-04-10  a02a3f43-b6f4-d209-4062-af0cec3b22c1  b06e3a3b-7d43-d28d-06c9-db649f132502       Medication review due          252.0      situation\n",
       "2 2016-09-23 2016-10-23  d92132ce-06ac-3ab4-217f-97257a290b22  c138ba5e-eea4-b4a1-d431-30ae17bedfad                    Homeless           30.0        finding\n",
       "3 2015-09-13 2015-11-08  a02a3f43-b6f4-d209-4062-af0cec3b22c1  722dacab-9a59-66ca-16f9-16703dcd2543                Otitis media           56.0       disorder\n",
       "4 2017-08-12        NaT  d92132ce-06ac-3ab4-217f-97257a290b22  364c86f0-1d1f-6fcb-bd8c-5f55d8bc0d47  Seasonal allergic rhinitis            NaN       disorder"
      ],
      "text/html": [
       "<div>\n",
       "<style scoped>\n",
       "    .dataframe tbody tr th:only-of-type {\n",
       "        vertical-align: middle;\n",
       "    }\n",
       "\n",
       "    .dataframe tbody tr th {\n",
       "        vertical-align: top;\n",
       "    }\n",
       "\n",
       "    .dataframe thead th {\n",
       "        text-align: right;\n",
       "    }\n",
       "</style>\n",
       "<table border=\"1\" class=\"dataframe\">\n",
       "  <thead>\n",
       "    <tr style=\"text-align: right;\">\n",
       "      <th></th>\n",
       "      <th>START</th>\n",
       "      <th>STOP</th>\n",
       "      <th>PATIENTID</th>\n",
       "      <th>ENCOUNTER</th>\n",
       "      <th>DESCRIPTION</th>\n",
       "      <th>DURATION_DAYS</th>\n",
       "      <th>CONDITION_TYPE</th>\n",
       "    </tr>\n",
       "  </thead>\n",
       "  <tbody>\n",
       "    <tr>\n",
       "      <th>0</th>\n",
       "      <td>2015-03-01</td>\n",
       "      <td>2016-09-04</td>\n",
       "      <td>d92132ce-06ac-3ab4-217f-97257a290b22</td>\n",
       "      <td>e0819fcd-cd3c-371c-efa4-d923e3788730</td>\n",
       "      <td>Medication review due</td>\n",
       "      <td>553.0</td>\n",
       "      <td>situation</td>\n",
       "    </tr>\n",
       "    <tr>\n",
       "      <th>1</th>\n",
       "      <td>2015-08-02</td>\n",
       "      <td>2016-04-10</td>\n",
       "      <td>a02a3f43-b6f4-d209-4062-af0cec3b22c1</td>\n",
       "      <td>b06e3a3b-7d43-d28d-06c9-db649f132502</td>\n",
       "      <td>Medication review due</td>\n",
       "      <td>252.0</td>\n",
       "      <td>situation</td>\n",
       "    </tr>\n",
       "    <tr>\n",
       "      <th>2</th>\n",
       "      <td>2016-09-23</td>\n",
       "      <td>2016-10-23</td>\n",
       "      <td>d92132ce-06ac-3ab4-217f-97257a290b22</td>\n",
       "      <td>c138ba5e-eea4-b4a1-d431-30ae17bedfad</td>\n",
       "      <td>Homeless</td>\n",
       "      <td>30.0</td>\n",
       "      <td>finding</td>\n",
       "    </tr>\n",
       "    <tr>\n",
       "      <th>3</th>\n",
       "      <td>2015-09-13</td>\n",
       "      <td>2015-11-08</td>\n",
       "      <td>a02a3f43-b6f4-d209-4062-af0cec3b22c1</td>\n",
       "      <td>722dacab-9a59-66ca-16f9-16703dcd2543</td>\n",
       "      <td>Otitis media</td>\n",
       "      <td>56.0</td>\n",
       "      <td>disorder</td>\n",
       "    </tr>\n",
       "    <tr>\n",
       "      <th>4</th>\n",
       "      <td>2017-08-12</td>\n",
       "      <td>NaT</td>\n",
       "      <td>d92132ce-06ac-3ab4-217f-97257a290b22</td>\n",
       "      <td>364c86f0-1d1f-6fcb-bd8c-5f55d8bc0d47</td>\n",
       "      <td>Seasonal allergic rhinitis</td>\n",
       "      <td>NaN</td>\n",
       "      <td>disorder</td>\n",
       "    </tr>\n",
       "  </tbody>\n",
       "</table>\n",
       "</div>"
      ]
     },
     "metadata": {},
     "output_type": "display_data"
    }
   ],
   "execution_count": 71
  },
  {
   "metadata": {},
   "cell_type": "markdown",
   "source": "# 3.4 Missing values",
   "id": "fc40270bb7b7f325"
  },
  {
   "metadata": {
    "ExecuteTime": {
     "end_time": "2025-03-19T03:21:21.027369Z",
     "start_time": "2025-03-19T03:21:21.009280Z"
    }
   },
   "cell_type": "code",
   "source": [
    "print(\"Missing values in conditions dataset:\")\n",
    "print(df_conditions_cleaned.isnull().sum())\n"
   ],
   "id": "19d627312cd5609",
   "outputs": [
    {
     "name": "stdout",
     "output_type": "stream",
     "text": [
      "Missing values in conditions dataset:\n",
      "START                 0\n",
      "STOP              21524\n",
      "PATIENTID             0\n",
      "ENCOUNTER             0\n",
      "DESCRIPTION           0\n",
      "DURATION_DAYS     21524\n",
      "CONDITION_TYPE        0\n",
      "dtype: int64\n"
     ]
    }
   ],
   "execution_count": 72
  },
  {
   "metadata": {},
   "cell_type": "markdown",
   "source": "# 3.5 Duplicates",
   "id": "18bf8ade5abc8067"
  },
  {
   "metadata": {
    "ExecuteTime": {
     "end_time": "2025-03-19T03:21:21.154073Z",
     "start_time": "2025-03-19T03:21:21.100367Z"
    }
   },
   "cell_type": "code",
   "source": [
    "duplicates = df_conditions_cleaned.duplicated().sum()\n",
    "print(f\"Duplicate rows: {duplicates}\")\n"
   ],
   "id": "69039fc090e53e00",
   "outputs": [
    {
     "name": "stdout",
     "output_type": "stream",
     "text": [
      "Duplicate rows: 0\n"
     ]
    }
   ],
   "execution_count": 73
  },
  {
   "metadata": {},
   "cell_type": "markdown",
   "source": "# 3.6 Repositioning key column order",
   "id": "6737d7f3639d5762"
  },
  {
   "metadata": {},
   "cell_type": "code",
   "outputs": [],
   "execution_count": null,
   "source": [
    "# Move PATIENTID and ENCOUNTERID to the first two positions\n",
    "columns_order = [\"PATIENTID\", \"ENCOUNTERID\"] + [col for col in df_conditions_cleaned.columns if col not in [\"PATIENTID\", \"ENCOUNTERID\"]]\n",
    "df_conditions_cleaned = df_conditions_cleaned[columns_order]\n",
    "\n",
    "# Display to verify the new column order\n",
    "display(df_conditions_cleaned.head())"
   ],
   "id": "3af9ab6f5b2af194"
  },
  {
   "metadata": {},
   "cell_type": "markdown",
   "source": "# 3.6 Saving the file",
   "id": "d10a7db9ca9bbc1c"
  },
  {
   "metadata": {
    "ExecuteTime": {
     "end_time": "2025-03-19T03:21:21.946323Z",
     "start_time": "2025-03-19T03:21:21.194654Z"
    }
   },
   "cell_type": "code",
   "source": [
    "PROCESSED_DATA_PATH = \"../backend/data/processed/\"\n",
    "os.makedirs(PROCESSED_DATA_PATH, exist_ok=True)\n",
    "\n",
    "df_conditions_cleaned.to_csv(os.path.join(PROCESSED_DATA_PATH, \"conditions_cleaned.csv\"), index=False)\n",
    "\n",
    "print(\"✅ Cleaned conditions dataset saved successfully!\")"
   ],
   "id": "5ac70f88635427b9",
   "outputs": [
    {
     "name": "stdout",
     "output_type": "stream",
     "text": [
      "✅ Cleaned conditions dataset saved successfully!\n"
     ]
    }
   ],
   "execution_count": 74
  },
  {
   "metadata": {},
   "cell_type": "markdown",
   "source": "# 4.1 Encounters Dataset",
   "id": "11005d68944220a7"
  },
  {
   "metadata": {},
   "cell_type": "code",
   "outputs": [],
   "execution_count": null,
   "source": [
    "# Load encounters dataset\n",
    "df_encounters = dfs[\"encounters\"]\n",
    "\n",
    "# Display all column names\n",
    "print(\"Columns in encounters dataset:\")\n",
    "print(df_encounters.columns.tolist())\n",
    "\n",
    "# Show first 5 rows\n",
    "display(df_encounters.head())"
   ],
   "id": "6d219b3ec5024668"
  },
  {
   "metadata": {},
   "cell_type": "markdown",
   "source": "# 4.2 Drop unnecessary columns",
   "id": "56cd3ae1f3e29efc"
  },
  {
   "metadata": {},
   "cell_type": "code",
   "outputs": [],
   "execution_count": null,
   "source": [
    "# Drop unnecessary columns\n",
    "columns_to_drop = [\"CODE\", \"REASONCODE\", \"ORGANIZATION\"]\n",
    "df_encounters_cleaned = df_encounters.drop(columns=columns_to_drop, errors=\"ignore\")\n",
    "\n",
    "# Display cleaned data\n",
    "display(df_encounters_cleaned.head())"
   ],
   "id": "f56d4fe2db545106"
  },
  {
   "metadata": {},
   "cell_type": "markdown",
   "source": "# 4.3 Datatype conversion",
   "id": "1832b006b2eeddde"
  },
  {
   "metadata": {},
   "cell_type": "code",
   "outputs": [],
   "execution_count": null,
   "source": [
    "# Convert START and STOP to datetime format\n",
    "df_encounters_cleaned[\"START\"] = pd.to_datetime(df_encounters_cleaned[\"START\"], errors=\"coerce\")\n",
    "df_encounters_cleaned[\"STOP\"] = pd.to_datetime(df_encounters_cleaned[\"STOP\"], errors=\"coerce\")\n",
    "\n",
    "# Convert financial columns to float\n",
    "financial_columns = [\"BASE_ENCOUNTER_COST\", \"TOTAL_CLAIM_COST\", \"PAYER_COVERAGE\"]\n",
    "for col in financial_columns:\n",
    "    df_encounters_cleaned[col] = pd.to_numeric(df_encounters_cleaned[col], errors=\"coerce\")\n",
    "\n",
    "# Display cleaned dataset\n",
    "print(df_encounters_cleaned.dtypes)\n",
    "display(df_encounters_cleaned.head())"
   ],
   "id": "cbe2e3bc5b90f858"
  },
  {
   "metadata": {},
   "cell_type": "markdown",
   "source": "# 4.4 Renaming columns",
   "id": "8fd66e0ff0fe1191"
  },
  {
   "metadata": {},
   "cell_type": "code",
   "outputs": [],
   "execution_count": null,
   "source": [
    "# Rename columns for clarity\n",
    "df_encounters_cleaned = df_encounters_cleaned.rename(columns={\n",
    "    \"Id\": \"ENCOUNTERID\",\n",
    "    \"PATIENT\": \"PATIENTID\",\n",
    "    \"ORGANIZATION\": \"ORGANIZATIONID\",\n",
    "    \"PAYER\": \"PAYERID\",\n",
    "    \"PROVIDER\": \"PROVIDERID\",\n",
    "    \"DESCRIPTION\": \"ENCOUNTER_DESCRIPTION\",\n",
    "    \"REASONDESCRIPTION\": \"ENCOUNTER_REASON_DESCRIPTION\"\n",
    "})\n",
    "\n",
    "# Display renamed dataset\n",
    "print(\"Columns after renaming:\")\n",
    "print(df_encounters_cleaned.columns.tolist())\n",
    "display(df_encounters_cleaned.head())"
   ],
   "id": "f2bd5cfd4fb18407"
  },
  {
   "metadata": {},
   "cell_type": "markdown",
   "source": "# 4.5 Creating new columns",
   "id": "d3fdf954b7979cd8"
  },
  {
   "metadata": {},
   "cell_type": "code",
   "outputs": [],
   "execution_count": null,
   "source": [
    "import pandas as pd\n",
    "import re\n",
    "\n",
    "# Remove text inside parentheses from ENCOUNTER_DESCRIPTION\n",
    "df_encounters_cleaned[\"ENCOUNTER_DESCRIPTION\"] = df_encounters_cleaned[\"ENCOUNTER_DESCRIPTION\"].apply(\n",
    "    lambda x: re.sub(r'\\s*\\(.*?\\)', '', x) if pd.notnull(x) else x\n",
    ")\n",
    "\n",
    "# Fill missing values with \"Unknown\" before processing\n",
    "df_encounters_cleaned[\"ENCOUNTER_REASON_DESCRIPTION\"].fillna(\"Unknown\", inplace=True)\n",
    "\n",
    "# Extract text inside parentheses from ENCOUNTER_REASON_DESCRIPTION\n",
    "df_encounters_cleaned[\"ENCOUNTER_REASON_TYPE\"] = df_encounters_cleaned[\"ENCOUNTER_REASON_DESCRIPTION\"].apply(\n",
    "    lambda x: re.findall(r'\\((.*?)\\)', x)[-1] if \"(\" in x else \"Unknown\"\n",
    ")\n",
    "\n",
    "# Remove the extracted part from ENCOUNTER_REASON_DESCRIPTION to keep it clean\n",
    "df_encounters_cleaned[\"ENCOUNTER_REASON_DESCRIPTION\"] = df_encounters_cleaned[\"ENCOUNTER_REASON_DESCRIPTION\"].apply(\n",
    "    lambda x: re.sub(r'\\s*\\(.*?\\)', '', x) if pd.notnull(x) else x\n",
    ")"
   ],
   "id": "f0d63adee33bca6f"
  },
  {
   "metadata": {},
   "cell_type": "code",
   "outputs": [],
   "execution_count": null,
   "source": [
    "# Calculate duration in minutes\n",
    "df_encounters_cleaned[\"ENCOUNTER_DURATION_MINUTES\"] = (df_encounters_cleaned[\"STOP\"] - df_encounters_cleaned[\"START\"]).dt.total_seconds() / 60\n",
    "\n",
    "# Round encounter duration in minutes to avoid decimals\n",
    "df_encounters_cleaned[\"ENCOUNTER_DURATION_MINUTES\"] = df_encounters_cleaned[\"ENCOUNTER_DURATION_MINUTES\"].round(0).astype(int)\n",
    "\n",
    "# Create a formatted duration column for readability\n",
    "def format_duration(minutes):\n",
    "    if pd.isnull(minutes):\n",
    "        return \"Unknown\"\n",
    "    elif minutes >= 1440:  # More than a day\n",
    "        return f\"{round(minutes / 1440)} days\"\n",
    "    elif minutes >= 60:  # More than an hour\n",
    "        return f\"{round(minutes / 60)} hours\"\n",
    "    else:\n",
    "        return f\"{int(round(minutes))} minutes\"\n",
    "\n",
    "df_encounters_cleaned[\"ENCOUNTER_DURATION\"] = df_encounters_cleaned[\"ENCOUNTER_DURATION_MINUTES\"].apply(format_duration)"
   ],
   "id": "f393fb1ea60002b1"
  },
  {
   "metadata": {},
   "cell_type": "code",
   "outputs": [],
   "execution_count": null,
   "source": [
    "# Round encounter duration in minutes to avoid decimals\n",
    "df_encounters_cleaned[\"ENCOUNTER_DURATION_MINUTES\"] = df_encounters_cleaned[\"ENCOUNTER_DURATION_MINUTES\"].round(0).astype(int)"
   ],
   "id": "cb58b0c41200ec6"
  },
  {
   "metadata": {},
   "cell_type": "code",
   "outputs": [],
   "execution_count": null,
   "source": [
    "# Display cleaned dataset\n",
    "print(df_encounters_cleaned.dtypes)\n",
    "display(df_encounters_cleaned[[\"START\", \"STOP\", \"ENCOUNTER_DURATION\", \"ENCOUNTER_DURATION_MINUTES\"]].tail(10))"
   ],
   "id": "a7af7d16b0efca3b"
  },
  {
   "metadata": {},
   "cell_type": "code",
   "outputs": [],
   "execution_count": null,
   "source": "print(df_encounters_cleaned[[\"BASE_ENCOUNTER_COST\", \"TOTAL_CLAIM_COST\"]].describe())\n",
   "id": "67b6a5690551f5f7"
  },
  {
   "metadata": {},
   "cell_type": "code",
   "outputs": [],
   "execution_count": null,
   "source": [
    "# Out-of-pocket cost: How much the patient pays directly\n",
    "df_encounters_cleaned[\"OUT_OF_POCKET_COST\"] = df_encounters_cleaned[\"TOTAL_CLAIM_COST\"] - df_encounters_cleaned[\"PAYER_COVERAGE\"]\n",
    "\n",
    "# Cost coverage ratio: Percentage of total cost covered by insurance (0 to 1)\n",
    "df_encounters_cleaned[\"COST_COVERAGE_RATIO\"] = df_encounters_cleaned[\"PAYER_COVERAGE\"] / df_encounters_cleaned[\"TOTAL_CLAIM_COST\"]\n",
    "\n",
    "# Claim profit margin: Difference between total claim cost and base cost\n",
    "df_encounters_cleaned[\"CLAIM_PROFIT_MARGIN\"] = df_encounters_cleaned[\"TOTAL_CLAIM_COST\"] - df_encounters_cleaned[\"BASE_ENCOUNTER_COST\"]\n",
    "\n",
    "# Handle cases where division results in NaN (e.g., zero division)\n",
    "df_encounters_cleaned[\"COST_COVERAGE_RATIO\"].fillna(0, inplace=True)\n",
    "\n",
    "# Round monetary values to whole numbers\n",
    "df_encounters_cleaned[\"OUT_OF_POCKET_COST\"] = df_encounters_cleaned[\"OUT_OF_POCKET_COST\"].round(0).astype(int)\n",
    "df_encounters_cleaned[\"CLAIM_PROFIT_MARGIN\"] = df_encounters_cleaned[\"CLAIM_PROFIT_MARGIN\"].round(0).astype(int)\n",
    "\n",
    "# Keep cost coverage ratio with 2 decimal places\n",
    "df_encounters_cleaned[\"COST_COVERAGE_RATIO\"] = df_encounters_cleaned[\"COST_COVERAGE_RATIO\"].round(2)"
   ],
   "id": "6564b59dc9410ec"
  },
  {
   "metadata": {},
   "cell_type": "code",
   "outputs": [],
   "execution_count": null,
   "source": [
    "# Display dataset with new variables\n",
    "display(df_encounters_cleaned[[\n",
    "    \"BASE_ENCOUNTER_COST\", \"TOTAL_CLAIM_COST\", \"PAYER_COVERAGE\", \n",
    "    \"OUT_OF_POCKET_COST\", \"COST_COVERAGE_RATIO\", \"CLAIM_PROFIT_MARGIN\"\n",
    "]].head())"
   ],
   "id": "9882f0c9b753996c"
  },
  {
   "metadata": {},
   "cell_type": "code",
   "outputs": [],
   "execution_count": null,
   "source": [
    "print(df_encounters_cleaned.dtypes)\n",
    "display(df_encounters_cleaned.head())"
   ],
   "id": "e7e2ae949ea0c229"
  },
  {
   "metadata": {},
   "cell_type": "markdown",
   "source": "# 4.6 Repositioning key column order",
   "id": "12784ad2bddce9a1"
  },
  {
   "metadata": {},
   "cell_type": "code",
   "outputs": [],
   "execution_count": null,
   "source": [
    "# Move PATIENTID to the second column position\n",
    "columns_order = [\"ENCOUNTERID\", \"PATIENTID\"] + [col for col in df_encounters_cleaned.columns if col not in [\"ENCOUNTERID\", \"PATIENTID\"]]\n",
    "df_encounters_cleaned = df_encounters_cleaned[columns_order]\n",
    "\n",
    "# Display to verify the new column order\n",
    "display(df_encounters_cleaned.head())"
   ],
   "id": "8b8a92cec531dd7b"
  },
  {
   "metadata": {},
   "cell_type": "markdown",
   "source": "# 4.7 Save the cleaned encounters dataset",
   "id": "50605432af29eb58"
  },
  {
   "metadata": {},
   "cell_type": "code",
   "outputs": [],
   "execution_count": null,
   "source": [
    "import os\n",
    "\n",
    "# Define processed data path\n",
    "PROCESSED_DATA_PATH = \"../backend/data/processed/\"\n",
    "os.makedirs(PROCESSED_DATA_PATH, exist_ok=True)\n",
    "\n",
    "# Save cleaned encounters dataset\n",
    "df_encounters_cleaned.to_csv(os.path.join(PROCESSED_DATA_PATH, \"encounters_cleaned.csv\"), index=False)\n",
    "\n",
    "print(\"✅ Cleaned encounters dataset saved successfully!\")"
   ],
   "id": "b9c51d6a7c04e71d"
  },
  {
   "metadata": {},
   "cell_type": "markdown",
   "source": "# 5.1 Medications datset",
   "id": "5895374d7fce333"
  },
  {
   "metadata": {},
   "cell_type": "code",
   "outputs": [],
   "execution_count": null,
   "source": [
    "# Load medications dataset\n",
    "df_medications = dfs[\"medications\"]\n",
    "\n",
    "# Display all column names\n",
    "print(\"Columns in medications dataset:\")\n",
    "print(df_medications.columns.tolist())\n",
    "\n",
    "# Show first 5 rows\n",
    "display(df_medications.head())"
   ],
   "id": "987dfad0717de40f"
  },
  {
   "metadata": {},
   "cell_type": "markdown",
   "source": "# 5.2 Drop unnecessary columns",
   "id": "3619c59787863ffd"
  },
  {
   "metadata": {},
   "cell_type": "code",
   "outputs": [],
   "execution_count": null,
   "source": [
    "# Drop unnecessary columns\n",
    "columns_to_drop = [\"CODE\", \"REASONCODE\"]\n",
    "df_medications_cleaned = df_medications.drop(columns=columns_to_drop, errors=\"ignore\")\n",
    "\n",
    "# Display cleaned dataset\n",
    "display(df_medications_cleaned.head())"
   ],
   "id": "8dfacf7f56cbffac"
  },
  {
   "metadata": {},
   "cell_type": "markdown",
   "source": "# 5.3 Renaming columns",
   "id": "3414be5a3b4eae87"
  },
  {
   "metadata": {},
   "cell_type": "code",
   "outputs": [],
   "execution_count": null,
   "source": [
    "# Rename columns for clarity\n",
    "df_medications_cleaned = df_medications_cleaned.rename(columns={\n",
    "    \"PATIENT\": \"PATIENTID\",\n",
    "    \"PAYER\": \"PAYERID\",\n",
    "    \"ENCOUNTER\": \"ENCOUNTERID\",\n",
    "    \"DESCRIPTION\": \"MEDICATION_DESCRIPTION\",\n",
    "    \"REASONDESCRIPTION\": \"MEDICATION_REASON_DESCRIPTION\"\n",
    "})\n",
    "\n",
    "# Display renamed dataset\n",
    "print(\"Columns after renaming:\")\n",
    "print(df_medications_cleaned.columns.tolist())\n",
    "display(df_medications_cleaned.head())\n"
   ],
   "id": "9fdb22b9d258ade3"
  },
  {
   "metadata": {},
   "cell_type": "markdown",
   "source": "# 5.4 Creating new columns",
   "id": "dc72994c05a2e5ec"
  },
  {
   "metadata": {},
   "cell_type": "code",
   "outputs": [],
   "execution_count": null,
   "source": "print(df_medications_cleaned.dtypes)",
   "id": "d560b434e9b83891"
  },
  {
   "metadata": {},
   "cell_type": "code",
   "outputs": [],
   "execution_count": null,
   "source": [
    "import numpy as np\n",
    "\n",
    "# Convert START and STOP to datetime\n",
    "df_medications_cleaned[\"START\"] = pd.to_datetime(df_medications_cleaned[\"START\"], errors=\"coerce\")\n",
    "df_medications_cleaned[\"STOP\"] = pd.to_datetime(df_medications_cleaned[\"STOP\"], errors=\"coerce\")\n",
    "\n",
    "# Calculate medication duration in days and round to integer\n",
    "df_medications_cleaned[\"MEDICATION_DURATION_DAYS\"] = (df_medications_cleaned[\"STOP\"] - df_medications_cleaned[\"START\"]).dt.days.fillna(0).astype(int)\n",
    "\n",
    "# tackling the data entry issue with wrong STOP dates by replacing the above outputnegative values with 0\n",
    "df_medications_cleaned[\"MEDICATION_DURATION_DAYS\"] = df_medications_cleaned[\"MEDICATION_DURATION_DAYS\"].clip(lower=0)\n",
    "\n",
    "\n",
    "# Convert financial columns to numeric\n",
    "numeric_columns = [\"BASE_COST\", \"PAYER_COVERAGE\", \"DISPENSES\", \"TOTALCOST\"]\n",
    "for col in numeric_columns:\n",
    "    df_medications_cleaned[col] = pd.to_numeric(df_medications_cleaned[col], errors=\"coerce\")\n",
    "\n",
    "# Convert financial columns to numeric\n",
    "numeric_columns = [\"BASE_COST\", \"PAYER_COVERAGE\", \"DISPENSES\", \"TOTALCOST\"]\n",
    "for col in numeric_columns:\n",
    "    df_medications_cleaned[col] = pd.to_numeric(df_medications_cleaned[col], errors=\"coerce\")\n",
    "\n",
    "# Calculate out-of-pocket cost (amount the patient pays)\n",
    "df_medications_cleaned[\"OUT_OF_POCKET_COST\"] = df_medications_cleaned[\"TOTALCOST\"] - df_medications_cleaned[\"PAYER_COVERAGE\"]\n",
    "\n",
    "# Calculate cost coverage ratio (percentage covered by insurance)\n",
    "df_medications_cleaned[\"COST_COVERAGE_RATIO\"] = df_medications_cleaned[\"PAYER_COVERAGE\"] / df_medications_cleaned[\"TOTALCOST\"]\n",
    "\n",
    "# Calculate cost per dispense (avoid division by zero)\n",
    "df_medications_cleaned[\"PER_DISPENSE_COST\"] = np.where(\n",
    "    df_medications_cleaned[\"DISPENSES\"] > 0, \n",
    "    df_medications_cleaned[\"TOTALCOST\"] / df_medications_cleaned[\"DISPENSES\"], \n",
    "    np.nan\n",
    ")\n",
    "\n",
    "# Handle NaN values in COST_COVERAGE_RATIO (e.g., division by zero cases)\n",
    "df_medications_cleaned[\"COST_COVERAGE_RATIO\"].fillna(0, inplace=True)\n",
    "\n",
    "# Round monetary values to whole numbers\n",
    "df_medications_cleaned[\"OUT_OF_POCKET_COST\"] = df_medications_cleaned[\"OUT_OF_POCKET_COST\"].round(0).astype(int)\n",
    "df_medications_cleaned[\"PER_DISPENSE_COST\"] = df_medications_cleaned[\"PER_DISPENSE_COST\"].round(0).astype(int)\n",
    "\n",
    "# Keep cost coverage ratio with 2 decimal places\n",
    "df_medications_cleaned[\"COST_COVERAGE_RATIO\"] = df_medications_cleaned[\"COST_COVERAGE_RATIO\"].round(2)\n",
    "\n",
    "# filling missing values of medications_reason_description with unknown.\n",
    "df_medications_cleaned[\"MEDICATION_REASON_DESCRIPTION\"].fillna(\"Unknown\", inplace=True)\n",
    "\n",
    "# Display dataset to verify new columns\n",
    "print(df_medications_cleaned.dtypes)\n",
    "display(df_medications_cleaned.head())"
   ],
   "id": "951e15283cd4b0d6"
  },
  {
   "metadata": {},
   "cell_type": "markdown",
   "source": "# 5.5 Positioning FK column order",
   "id": "c01005a01c0644ae"
  },
  {
   "metadata": {},
   "cell_type": "code",
   "outputs": [],
   "execution_count": null,
   "source": [
    "# moving key columns to the starting column positions\n",
    "columns_order = [\"PATIENTID\", \"ENCOUNTERID\", \"PAYERID\"] + [\n",
    "    col for col in df_medications_cleaned.columns if col not in [\"PATIENTID\", \"ENCOUNTERID\", \"PAYERID\"]\n",
    "]\n",
    "df_medications_cleaned = df_medications_cleaned[columns_order]\n",
    "\n",
    "# Display to verify the new column order\n",
    "display(df_medications_cleaned.head())\n"
   ],
   "id": "89d022ee5c7cf53a"
  },
  {
   "metadata": {},
   "cell_type": "code",
   "outputs": [],
   "execution_count": null,
   "source": "print(df_medications_cleaned.isna().sum())",
   "id": "ecb7cdb726db3571"
  },
  {
   "metadata": {},
   "cell_type": "markdown",
   "source": "# 5.6 Saving cleaned medications dataset",
   "id": "e73f14bf4fb3e714"
  },
  {
   "metadata": {},
   "cell_type": "code",
   "outputs": [],
   "execution_count": null,
   "source": [
    "import os\n",
    "\n",
    "# Define processed data path\n",
    "PROCESSED_DATA_PATH = \"../backend/data/processed/\"\n",
    "os.makedirs(PROCESSED_DATA_PATH, exist_ok=True)\n",
    "\n",
    "# Save cleaned medications dataset\n",
    "df_medications_cleaned.to_csv(os.path.join(PROCESSED_DATA_PATH, \"medications_cleaned.csv\"), index=False)\n",
    "\n",
    "print(\"✅ Cleaned medications dataset saved successfully!\")"
   ],
   "id": "a13f53c6c7e5d319"
  },
  {
   "metadata": {},
   "cell_type": "markdown",
   "source": "# 6.1 Claims dataset",
   "id": "bc9cda6975893f30"
  },
  {
   "metadata": {},
   "cell_type": "code",
   "outputs": [],
   "execution_count": null,
   "source": [
    "# Load claims dataset\n",
    "df_claims = dfs[\"claims\"]\n",
    "\n",
    "# Display all column names\n",
    "print(\"Columns in claims dataset:\")\n",
    "print(df_claims.columns.tolist())\n",
    "\n",
    "# Show first 5 rows\n",
    "display(df_claims.head())\n"
   ],
   "id": "d84f0eeb75ff5faa"
  },
  {
   "metadata": {},
   "cell_type": "markdown",
   "source": "# 6.2 Keeping only useful columns",
   "id": "2fe025f0645d53d1"
  },
  {
   "metadata": {},
   "cell_type": "code",
   "outputs": [],
   "execution_count": null,
   "source": [
    "# Select only the required columns\n",
    "columns_to_keep = [\n",
    "    \"Id\", \"PATIENTID\", \"PROVIDERID\", \n",
    "    \"PRIMARYPATIENTINSURANCEID\", \"SECONDARYPATIENTINSURANCEID\", \"DEPARTMENTID\"\n",
    "]\n",
    "\n",
    "# Keep only necessary columns\n",
    "df_claims_cleaned = df_claims[columns_to_keep].copy()\n",
    "\n",
    "# Rename `Id` to `CLAIMID`\n",
    "df_claims_cleaned.rename(columns={\"Id\": \"CLAIMID\"}, inplace=True)\n",
    "\n",
    "# Display cleaned dataset\n",
    "print(df_claims_cleaned.columns.tolist())\n",
    "display(df_claims_cleaned.head())"
   ],
   "id": "646205c36ffc1dfc"
  },
  {
   "metadata": {},
   "cell_type": "markdown",
   "source": "# 6.3 Filling missing values",
   "id": "d0923120e5125894"
  },
  {
   "metadata": {},
   "cell_type": "code",
   "outputs": [],
   "execution_count": null,
   "source": [
    "# Load payers dataset to find NO_INSURANCE PAYERID\n",
    "payers_path = \"C:/Users/palad/PycharmProjects/health-equity-LLM-chatbot/backend/data/processed/payers_cleaned.csv\"\n",
    "df_payers = pd.read_csv(payers_path)\n",
    "\n",
    "# Fetch the PAYERID where PAYER_NAME is \"NO_INSURANCE\"\n",
    "no_insurance_payerid = df_payers.loc[df_payers[\"PAYER_NAME\"] == \"NO_INSURANCE\", \"PAYERID\"].values\n",
    "\n",
    "# Ensure we have a valid PAYERID\n",
    "if len(no_insurance_payerid) > 0:\n",
    "    no_insurance_payerid = no_insurance_payerid[0]  # Extract the actual ID\n",
    "    print(f\"Using 'NO_INSURANCE' PAYERID: {no_insurance_payerid}\")\n",
    "    \n",
    "    # Replace missing insurance values with the dynamically fetched NO_INSURANCE PAYERID\n",
    "    df_claims_cleaned.loc[df_claims_cleaned[\"PRIMARYPATIENTINSURANCEID\"].isna(), \"PRIMARYPATIENTINSURANCEID\"] = no_insurance_payerid\n",
    "    df_claims_cleaned.loc[df_claims_cleaned[\"SECONDARYPATIENTINSURANCEID\"].isna(), \"SECONDARYPATIENTINSURANCEID\"] = no_insurance_payerid\n",
    "\n",
    "else:\n",
    "    print(\"⚠ ERROR: NO_INSURANCE PAYERID not found in payers dataset!\")\n"
   ],
   "id": "d8e340c624fbc625"
  },
  {
   "metadata": {},
   "cell_type": "code",
   "outputs": [],
   "execution_count": null,
   "source": [
    "print(df_claims_cleaned.dtypes)\n",
    "display(df_claims_cleaned.head())"
   ],
   "id": "a7af912f49ea8b6a"
  },
  {
   "metadata": {},
   "cell_type": "markdown",
   "source": "# 6.4 Repositioning key column order",
   "id": "33761f5e2a07c39e"
  },
  {
   "metadata": {},
   "cell_type": "code",
   "outputs": [],
   "execution_count": null,
   "source": [
    "# Reorder columns: PATIENTID first, followed by CLAIMID\n",
    "columns_order = [\"PATIENTID\", \"CLAIMID\", \"PROVIDERID\", \"PRIMARYPATIENTINSURANCEID\", \"SECONDARYPATIENTINSURANCEID\", \"DEPARTMENTID\"]\n",
    "df_claims_cleaned = df_claims_cleaned[columns_order]\n",
    "\n",
    "# Display to verify the new column order\n",
    "display(df_claims_cleaned.head())"
   ],
   "id": "a568740c5805ee63"
  },
  {
   "metadata": {},
   "cell_type": "markdown",
   "source": "# 6.5 Saving the cleaned claims dataset",
   "id": "dcc174490eeac6d9"
  },
  {
   "metadata": {},
   "cell_type": "code",
   "outputs": [],
   "execution_count": null,
   "source": [
    "import os\n",
    "\n",
    "# Define processed data path\n",
    "PROCESSED_DATA_PATH = \"../backend/data/processed/\"\n",
    "os.makedirs(PROCESSED_DATA_PATH, exist_ok=True)\n",
    "\n",
    "# Save cleaned claims dataset\n",
    "df_claims_cleaned.to_csv(os.path.join(PROCESSED_DATA_PATH, \"claims_cleaned.csv\"), index=False)\n",
    "\n",
    "print(\"✅ Cleaned claims dataset saved successfully!\")"
   ],
   "id": "40692bef1751f781"
  },
  {
   "metadata": {},
   "cell_type": "markdown",
   "source": "# 7.1 Payers dataset",
   "id": "f5ea2b8a048615e7"
  },
  {
   "metadata": {},
   "cell_type": "code",
   "outputs": [],
   "execution_count": null,
   "source": [
    "# Load payers dataset\n",
    "df_payers = dfs[\"payers\"]\n",
    "\n",
    "# Display all column names\n",
    "print(\"Columns in payers dataset:\")\n",
    "print(df_payers.columns.tolist())\n",
    "\n",
    "# Show first 5 rows\n",
    "display(df_payers.head())"
   ],
   "id": "5a2253de377e437"
  },
  {
   "metadata": {},
   "cell_type": "markdown",
   "source": "# 7.2 Keeping only useful columns",
   "id": "fe8ff95443c4fafc"
  },
  {
   "metadata": {},
   "cell_type": "code",
   "outputs": [],
   "execution_count": null,
   "source": [
    "import os\n",
    "\n",
    "# Select only the required columns\n",
    "columns_to_keep = [\"Id\", \"NAME\", \"OWNERSHIP\", \"AMOUNT_COVERED\", \"AMOUNT_UNCOVERED\"]\n",
    "df_payers_cleaned = df_payers[columns_to_keep].copy()"
   ],
   "id": "8cb8c137e8c2a51"
  },
  {
   "metadata": {},
   "cell_type": "markdown",
   "source": "# 7.3 Renaming columns",
   "id": "90e336e50394c5a3"
  },
  {
   "metadata": {},
   "cell_type": "code",
   "outputs": [],
   "execution_count": null,
   "source": [
    "# Rename columns for clarity\n",
    "df_payers_cleaned.rename(columns={\"Id\": \"PAYERID\", \"NAME\": \"PAYER_NAME\"}, inplace=True)"
   ],
   "id": "681b0608571fdf0c"
  },
  {
   "metadata": {},
   "cell_type": "code",
   "outputs": [],
   "execution_count": null,
   "source": [
    "print(df_payers_cleaned.dtypes)\n",
    "display(df_payers_cleaned.head())"
   ],
   "id": "8ef6870fdaa41e05"
  },
  {
   "metadata": {},
   "cell_type": "markdown",
   "source": "# 7.4 Fixing data types",
   "id": "404a45b63a430e34"
  },
  {
   "metadata": {},
   "cell_type": "code",
   "outputs": [],
   "execution_count": null,
   "source": [
    "# Convert financial columns to numeric\n",
    "numeric_columns = [\"AMOUNT_COVERED\", \"AMOUNT_UNCOVERED\"]\n",
    "for col in numeric_columns:\n",
    "    df_payers_cleaned[col] = pd.to_numeric(df_payers_cleaned[col], errors=\"coerce\")\n",
    "\n",
    "# Verify new data types\n",
    "print(df_payers_cleaned.dtypes)"
   ],
   "id": "f8d363beeb11ac9"
  },
  {
   "metadata": {},
   "cell_type": "code",
   "outputs": [],
   "execution_count": null,
   "source": [
    "# Display dataset info\n",
    "print(df_payers_cleaned.info())\n",
    "\n",
    "# Show a sample of the final cleaned dataset\n",
    "display(df_payers_cleaned.head())\n"
   ],
   "id": "81baabc1ace01472"
  },
  {
   "metadata": {},
   "cell_type": "markdown",
   "source": "# 7.5 Saving cleaned payers dataset",
   "id": "fc7c6a3528df6917"
  },
  {
   "metadata": {},
   "cell_type": "code",
   "outputs": [],
   "execution_count": null,
   "source": [
    "import os\n",
    "\n",
    "# Define processed data path\n",
    "PROCESSED_DATA_PATH = \"../backend/data/processed/\"\n",
    "os.makedirs(PROCESSED_DATA_PATH, exist_ok=True)\n",
    "\n",
    "# Save cleaned payers dataset\n",
    "df_payers_cleaned.to_csv(os.path.join(PROCESSED_DATA_PATH, \"payers_cleaned.csv\"), index=False)\n",
    "\n",
    "print(\"✅ Cleaned payers dataset saved successfully!\")"
   ],
   "id": "fa91168fd61b84e7"
  },
  {
   "metadata": {},
   "cell_type": "markdown",
   "source": "# 8.1 Organizations dataset",
   "id": "7cd36bad779a5424"
  },
  {
   "metadata": {},
   "cell_type": "code",
   "outputs": [],
   "execution_count": null,
   "source": [
    "# Load organizations dataset\n",
    "df_organizations = dfs[\"organizations\"]\n",
    "\n",
    "# Display all column names\n",
    "print(\"Columns in organizations dataset:\")\n",
    "print(df_organizations.columns.tolist())\n",
    "\n",
    "# Show first 5 rows\n",
    "display(df_organizations.head())"
   ],
   "id": "681ec41a7dfad09"
  },
  {
   "metadata": {},
   "cell_type": "markdown",
   "source": "# 8.2 Keeping only useful columns",
   "id": "86fbb83ab7d43d61"
  },
  {
   "metadata": {},
   "cell_type": "code",
   "outputs": [],
   "execution_count": null,
   "source": [
    "# Select only the required columns\n",
    "columns_to_keep = [\"Id\", \"NAME\", \"ADDRESS\", \"CITY\", \"STATE\", \"ZIP\"]\n",
    "df_organizations_cleaned = df_organizations[columns_to_keep].copy()"
   ],
   "id": "29889bd022c99363"
  },
  {
   "metadata": {},
   "cell_type": "code",
   "outputs": [],
   "execution_count": null,
   "source": "display(df_organizations_cleaned.head())",
   "id": "1e1b58c983f9540e"
  },
  {
   "metadata": {},
   "cell_type": "markdown",
   "source": "# 8.3 Renaming columns",
   "id": "e03f650c093b506d"
  },
  {
   "metadata": {},
   "cell_type": "code",
   "outputs": [],
   "execution_count": null,
   "source": [
    "# Rename `Id` to `ORGANIZATIONID`\n",
    "df_organizations_cleaned.rename(columns={\"Id\": \"ORGANIZATIONID\"}, inplace=True)"
   ],
   "id": "cbf247f0a1f31b16"
  },
  {
   "metadata": {},
   "cell_type": "code",
   "outputs": [],
   "execution_count": null,
   "source": [
    "print(df_organizations_cleaned.dtypes)\n",
    "display(df_organizations_cleaned.head())"
   ],
   "id": "fd1eabc1df4f0867"
  },
  {
   "metadata": {},
   "cell_type": "markdown",
   "source": "# 8.4 Saving the cleaned organizations dataset",
   "id": "efcd79661cfd392b"
  },
  {
   "metadata": {},
   "cell_type": "code",
   "outputs": [],
   "execution_count": null,
   "source": [
    "import os\n",
    "\n",
    "# Define processed data path\n",
    "PROCESSED_DATA_PATH = \"../backend/data/processed/\"\n",
    "os.makedirs(PROCESSED_DATA_PATH, exist_ok=True)\n",
    "\n",
    "# Save cleaned organizations dataset\n",
    "df_organizations_cleaned.to_csv(os.path.join(PROCESSED_DATA_PATH, \"organizations_cleaned.csv\"), index=False)\n",
    "\n",
    "print(\"✅ Cleaned organizations dataset saved successfully!\")"
   ],
   "id": "7059a624a7bad68a"
  },
  {
   "metadata": {},
   "cell_type": "markdown",
   "source": "# 9.1 Providers dataset",
   "id": "3b38010fcf2e129d"
  },
  {
   "metadata": {},
   "cell_type": "code",
   "outputs": [],
   "execution_count": null,
   "source": [
    "# Load providers dataset\n",
    "df_providers = dfs[\"providers\"]\n",
    "\n",
    "# Display all column names\n",
    "print(\"Columns in providers dataset:\")\n",
    "print(df_providers.columns.tolist())\n",
    "\n",
    "# Show first 5 rows\n",
    "display(df_providers.head())"
   ],
   "id": "3db5f1ab8a532d95"
  },
  {
   "metadata": {},
   "cell_type": "markdown",
   "source": "# 9.2 Keeping only useful columns",
   "id": "2461e41ebea85240"
  },
  {
   "metadata": {},
   "cell_type": "code",
   "outputs": [],
   "execution_count": null,
   "source": [
    "# Select only the required columns\n",
    "columns_to_keep = [\"Id\", \"ORGANIZATION\", \"NAME\", \"ENCOUNTERS\"]\n",
    "df_providers_cleaned = df_providers[columns_to_keep].copy()"
   ],
   "id": "7fd5ea16246b2a5a"
  },
  {
   "metadata": {},
   "cell_type": "markdown",
   "source": "# 9.3 Renaming columns",
   "id": "aa852f71afb61dc8"
  },
  {
   "metadata": {},
   "cell_type": "code",
   "outputs": [],
   "execution_count": null,
   "source": [
    "# Rename columns for clarity\n",
    "df_providers_cleaned.rename(\n",
    "    columns={\n",
    "        \"Id\": \"PROVIDERID\",\n",
    "        \"ORGANIZATION\": \"ORGANIZATIONID\",\n",
    "        \"ENCOUNTERS\": \"ENCOUNTERS_COUNT\"  # Represents the total number of encounters seen by the provider\n",
    "    },\n",
    "    inplace=True\n",
    ")"
   ],
   "id": "680435818132cc2b"
  },
  {
   "metadata": {},
   "cell_type": "code",
   "outputs": [],
   "execution_count": null,
   "source": "print(df_providers_cleaned.dtypes)",
   "id": "62e077eac9615776"
  },
  {
   "metadata": {},
   "cell_type": "code",
   "outputs": [],
   "execution_count": null,
   "source": [
    "# Convert ENCOUNTERS_COUNT to integer\n",
    "df_providers_cleaned[\"ENCOUNTERS_COUNT\"] = pd.to_numeric(df_providers_cleaned[\"ENCOUNTERS_COUNT\"], errors=\"coerce\").fillna(0).astype(int)\n",
    "\n",
    "# Verify the updated data types\n",
    "print(df_providers_cleaned.dtypes)\n"
   ],
   "id": "44317a18bea36819"
  },
  {
   "metadata": {},
   "cell_type": "markdown",
   "source": "# 9.4 Saving cleaned providers dataset",
   "id": "37e6542cc642c81e"
  },
  {
   "metadata": {},
   "cell_type": "code",
   "outputs": [],
   "execution_count": null,
   "source": [
    "import os\n",
    "\n",
    "# Define processed data path\n",
    "PROCESSED_DATA_PATH = \"../backend/data/processed/\"\n",
    "os.makedirs(PROCESSED_DATA_PATH, exist_ok=True)\n",
    "\n",
    "# Save cleaned providers dataset\n",
    "df_providers_cleaned.to_csv(os.path.join(PROCESSED_DATA_PATH, \"providers_cleaned.csv\"), index=False)\n",
    "\n",
    "print(\"✅ Cleaned providers dataset saved successfully!\")"
   ],
   "id": "c515cd8d94f77c22"
  },
  {
   "metadata": {},
   "cell_type": "code",
   "outputs": [],
   "execution_count": null,
   "source": [
    "import pandas as pd\n",
    "\n",
    "# Load claims dataset\n",
    "claims_path = \"C:/Users/palad/PycharmProjects/health-equity-LLM-chatbot/backend/data/processed/claims_cleaned.csv\"\n",
    "df_claims = pd.read_csv(claims_path)\n",
    "\n",
    "# Check for missing values in each column\n",
    "missing_values = df_claims.isnull().sum()\n",
    "\n",
    "print(\"Missing values per column in claims dataset:\")\n",
    "print(missing_values)\n"
   ],
   "id": "12782fa9fac0af2e"
  },
  {
   "metadata": {},
   "cell_type": "code",
   "outputs": [],
   "execution_count": null,
   "source": [
    "missing_secondary_insurance = df_claims_cleaned[~df_claims_cleaned[\"SECONDARYPATIENTINSURANCEID\"].isin(df_payers_cleaned[\"PAYERID\"])]\n",
    "print(missing_secondary_insurance[[\"SECONDARYPATIENTINSURANCEID\"]].drop_duplicates())\n"
   ],
   "id": "8645f6359091be62"
  },
  {
   "metadata": {
    "ExecuteTime": {
     "end_time": "2025-03-19T03:21:21.986582Z",
     "start_time": "2025-03-19T03:21:21.981622Z"
    }
   },
   "cell_type": "code",
   "source": "",
   "id": "3885f2f5d2448ada",
   "outputs": [],
   "execution_count": null
  }
 ],
 "metadata": {
  "kernelspec": {
   "display_name": "Python 3",
   "language": "python",
   "name": "python3"
  },
  "language_info": {
   "codemirror_mode": {
    "name": "ipython",
    "version": 2
   },
   "file_extension": ".py",
   "mimetype": "text/x-python",
   "name": "python",
   "nbconvert_exporter": "python",
   "pygments_lexer": "ipython2",
   "version": "2.7.6"
  }
 },
 "nbformat": 4,
 "nbformat_minor": 5
}
